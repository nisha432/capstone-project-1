{
  "nbformat": 4,
  "nbformat_minor": 0,
  "metadata": {
    "colab": {
      "private_outputs": true,
      "provenance": [],
      "collapsed_sections": [
        "vncDsAP0Gaoa",
        "FJNUwmbgGyua",
        "w6K7xa23Elo4",
        "yQaldy8SH6Dl",
        "mDgbUHAGgjLW",
        "GF8Ens_Soomf",
        "K5QZ13OEpz2H",
        "lQ7QKXXCp7Bj",
        "448CDAPjqfQr",
        "t6dVpIINYklI",
        "ijmpgYnKYklI",
        "-JiQyfWJYklI",
        "fge-S5ZAYoAp",
        "85gYPyotYoAp",
        "RoGjAbkUYoAp",
        "iky9q4vBYrdO",
        "F6T5p64dYrdO",
        "y-Ehk30pYrdP",
        "QHF8YVU7Yuh3",
        "GwzvFGzlYuh3",
        "qYpmQ266Yuh3",
        "bbFf2-_FphqN",
        "_ouA3fa0phqN",
        "Seke61FWphqN",
        "t27r6nlMphqO",
        "r2jJGEOYphqO",
        "b0JNsNcRphqO",
        "jj7wYXLtphqO",
        "eZrbJ2SmphqO",
        "rFu4xreNphqO",
        "gCFgpxoyphqP",
        "OVtJsKN_phqQ",
        "lssrdh5qphqQ",
        "1M8mcRywphqQ",
        "tgIPom80phqQ",
        "JMzcOPDDphqR",
        "x-EpHcCOp1ci",
        "X_VqEhTip1ck",
        "8zGJKyg5p1ck",
        "PVzmfK_Ep1ck",
        "ylSl6qgtp1ck",
        "ZWILFDl5p1ck",
        "M7G43BXep1ck",
        "E6MkPsBcp1cl",
        "2cELzS2fp1cl",
        "3MPXvC8up1cl",
        "NC_X3p0fY2L0",
        "UV0SzAkaZNRQ",
        "YPEH6qLeZNRQ",
        "EXh0U9oCveiU",
        "22aHeOlLveiV",
        "g-ATYxFrGrvw",
        "Yfr_Vlr8HBkt",
        "tEA2Xm5dHt1r",
        "I79__PHVH19G",
        "Ou-I18pAyIpj",
        "fF3858GYyt-u",
        "4_0_7-oCpUZd",
        "hwyV_J3ipUZe",
        "3yB-zSqbpUZe",
        "dEUvejAfpUZe",
        "Fd15vwWVpUZf",
        "bn_IUdTipZyH",
        "49K5P_iCpZyH",
        "Nff-vKELpZyI",
        "kLW572S8pZyI",
        "dWbDXHzopZyI",
        "67NQN5KX2AMe",
        "Iwf50b-R2tYG",
        "GMQiZwjn3iu7",
        "WVIkgGqN3qsr",
        "XkPnILGE3zoT",
        "Hlsf0x5436Go",
        "mT9DMSJo4nBL",
        "c49ITxTc407N",
        "OeJFEK0N496M",
        "9ExmJH0g5HBk",
        "cJNqERVU536h",
        "k5UmGsbsOxih",
        "T0VqWOYE6DLQ",
        "qBMux9mC6MCf",
        "pEMng2IbBLp7",
        "yiiVWRdJDDil",
        "T5CmagL3EC8N",
        "TIqpNgepFxVj",
        "OB4l2ZhMeS1U",
        "wajCrYRRUszF",
        "dJ2tPlVmpsJ0",
        "QqPGeDdOWt_m",
        "UPxIlXsxXtzD",
        "J11_coB3ZgUL",
        "ZrIcwxRxaYaT",
        "GL-exM65bykJ",
        "KH5McJBi2d8v",
        "iW_Lq9qf2h6X",
        "-Kee-DAl2viO",
        "gIfDvo9L0UH2"
      ],
      "gpuType": "V28",
      "include_colab_link": true
    },
    "kernelspec": {
      "name": "python3",
      "display_name": "Python 3"
    },
    "language_info": {
      "name": "python"
    },
    "accelerator": "TPU"
  },
  "cells": [
    {
      "cell_type": "markdown",
      "metadata": {
        "id": "view-in-github",
        "colab_type": "text"
      },
      "source": [
        "<a href=\"https://colab.research.google.com/github/nisha432/capstone-project-1/blob/main/project_1_module_1_Template.ipynb\" target=\"_parent\"><img src=\"https://colab.research.google.com/assets/colab-badge.svg\" alt=\"Open In Colab\"/></a>"
      ]
    },
    {
      "cell_type": "markdown",
      "source": [
        "# **Project Name**    -\n",
        "\n"
      ],
      "metadata": {
        "id": "vncDsAP0Gaoa"
      }
    },
    {
      "cell_type": "markdown",
      "source": [
        "##### **Project Type**    - EDA/Regression/Classification/Unsupervised\n",
        "##### **Contribution**    - Individual/Team\n",
        "##### **Team Member 1 -**\n",
        "##### **Team Member 2 -**\n",
        "##### **Team Member 3 -**\n",
        "##### **Team Member 4 -**"
      ],
      "metadata": {
        "id": "beRrZCGUAJYm"
      }
    },
    {
      "cell_type": "markdown",
      "source": [
        "# **Project Summary -**"
      ],
      "metadata": {
        "id": "FJNUwmbgGyua"
      }
    },
    {
      "cell_type": "markdown",
      "source": [
        "Write the summary here within 500-600 words."
      ],
      "metadata": {
        "id": "F6v_1wHtG2nS"
      }
    },
    {
      "cell_type": "markdown",
      "source": [
        "# **GitHub Link -**"
      ],
      "metadata": {
        "id": "w6K7xa23Elo4"
      }
    },
    {
      "cell_type": "markdown",
      "source": [
        "Provide your GitHub Link here."
      ],
      "metadata": {
        "id": "h1o69JH3Eqqn"
      }
    },
    {
      "cell_type": "markdown",
      "source": [
        "# **Problem Statement**\n"
      ],
      "metadata": {
        "id": "yQaldy8SH6Dl"
      }
    },
    {
      "cell_type": "markdown",
      "source": [
        "**Write Problem Statement Here.**"
      ],
      "metadata": {
        "id": "DpeJGUA3kjGy"
      }
    },
    {
      "cell_type": "markdown",
      "source": [
        "# **General Guidelines** : -  "
      ],
      "metadata": {
        "id": "mDgbUHAGgjLW"
      }
    },
    {
      "cell_type": "markdown",
      "source": [
        "1.   Well-structured, formatted, and commented code is required.\n",
        "2.   Exception Handling, Production Grade Code & Deployment Ready Code will be a plus. Those students will be awarded some additional credits.\n",
        "     \n",
        "     The additional credits will have advantages over other students during Star Student selection.\n",
        "       \n",
        "             [ Note: - Deployment Ready Code is defined as, the whole .ipynb notebook should be executable in one go\n",
        "                       without a single error logged. ]\n",
        "\n",
        "3.   Each and every logic should have proper comments.\n",
        "4. You may add as many number of charts you want. Make Sure for each and every chart the following format should be answered.\n",
        "        \n",
        "\n",
        "```\n",
        "# Chart visualization code\n",
        "```\n",
        "            \n",
        "\n",
        "*   Why did you pick the specific chart?\n",
        "*   What is/are the insight(s) found from the chart?\n",
        "* Will the gained insights help creating a positive business impact?\n",
        "Are there any insights that lead to negative growth? Justify with specific reason.\n",
        "\n",
        "5. You have to create at least 15 logical & meaningful charts having important insights.\n",
        "\n",
        "\n",
        "[ Hints : - Do the Vizualization in  a structured way while following \"UBM\" Rule.\n",
        "\n",
        "U - Univariate Analysis,\n",
        "\n",
        "B - Bivariate Analysis (Numerical - Categorical, Numerical - Numerical, Categorical - Categorical)\n",
        "\n",
        "M - Multivariate Analysis\n",
        " ]\n",
        "\n",
        "\n",
        "\n",
        "\n",
        "\n",
        "6. You may add more ml algorithms for model creation. Make sure for each and every algorithm, the following format should be answered.\n",
        "\n",
        "\n",
        "*   Explain the ML Model used and it's performance using Evaluation metric Score Chart.\n",
        "\n",
        "\n",
        "*   Cross- Validation & Hyperparameter Tuning\n",
        "\n",
        "*   Have you seen any improvement? Note down the improvement with updates Evaluation metric Score Chart.\n",
        "\n",
        "*   Explain each evaluation metric's indication towards business and the business impact pf the ML model used.\n",
        "\n",
        "\n",
        "\n",
        "\n",
        "\n",
        "\n",
        "\n",
        "\n",
        "\n",
        "\n",
        "\n",
        "\n",
        "\n",
        "\n",
        "\n",
        "\n",
        "\n",
        "\n"
      ],
      "metadata": {
        "id": "ZrxVaUj-hHfC"
      }
    },
    {
      "cell_type": "markdown",
      "source": [
        "# ***Let's Begin !***"
      ],
      "metadata": {
        "id": "O_i_v8NEhb9l"
      }
    },
    {
      "cell_type": "markdown",
      "source": [
        "## ***1. Know Your Data***"
      ],
      "metadata": {
        "id": "HhfV-JJviCcP"
      }
    },
    {
      "cell_type": "markdown",
      "source": [
        "### Import Libraries"
      ],
      "metadata": {
        "id": "Y3lxredqlCYt"
      }
    },
    {
      "cell_type": "markdown",
      "source": [
        "### Dataset Loading"
      ],
      "metadata": {
        "id": "3RnN4peoiCZX"
      }
    },
    {
      "cell_type": "code",
      "source": [
        "! pip install missingno\n",
        "! pip install statsmodels\n",
        "! pip install yellowbrick\n",
        "! pip install xgboost\n",
        "! pip install lightgbm"
      ],
      "metadata": {
        "id": "vwa3RY9IPkKW"
      },
      "execution_count": null,
      "outputs": []
    },
    {
      "cell_type": "code",
      "source": [
        "! pip install graphviz"
      ],
      "metadata": {
        "id": "2V55A4CNP9Ck"
      },
      "execution_count": null,
      "outputs": []
    },
    {
      "cell_type": "code",
      "source": [
        "# Importing required modules and loading dataset\n",
        "import numpy as np\n",
        "import pandas as pd\n",
        "from datetime import datetime as dt\n",
        "import seaborn as sns\n",
        "import matplotlib.pyplot as plt\n",
        "import datetime\n",
        "import matplotlib\n",
        "import matplotlib.pyplot as plt\n",
        "import missingno as msno\n",
        "import missingno as mn\n",
        "from statsmodels.stats.outliers_influence import variance_inflation_factor\n",
        "from sklearn.preprocessing import MinMaxScaler\n",
        "from sklearn.preprocessing import OneHotEncoder\n",
        "from sklearn.model_selection import train_test_split\n",
        "from matplotlib.patheffects import PathPatchEffect, SimpleLineShadow, Normal\n",
        "import matplotlib.patheffects as path_effects\n",
        "from sklearn.linear_model import LinearRegression\n",
        "from sklearn.preprocessing import PolynomialFeatures\n",
        "from sklearn.tree import DecisionTreeRegressor\n",
        "from sklearn.ensemble import RandomForestRegressor\n",
        "from sklearn.ensemble import GradientBoostingRegressor\n",
        "from sklearn.model_selection import GridSearchCV\n",
        "from sklearn.metrics import mean_squared_error\n",
        "from sklearn.metrics import mean_absolute_error\n",
        "from sklearn.metrics import r2_score\n",
        "from sklearn.tree import export_graphviz\n",
        "from sklearn.linear_model import SGDRegressor\n",
        "from yellowbrick.regressor import ResidualsPlot\n",
        "from yellowbrick.regressor import PredictionError\n",
        "from xgboost import XGBRegressor\n",
        "from lightgbm import LGBMRegressor\n",
        "import warnings\n",
        "warnings.filterwarnings('ignore')\n",
        "!pip install shap==0.40.0\n",
        "import shap\n",
        "shap.initjs()\n",
        "import graphviz"
      ],
      "metadata": {
        "id": "J3mGlnBiPUKX"
      },
      "execution_count": null,
      "outputs": []
    },
    {
      "cell_type": "code",
      "source": [
        "# # Load Dataset\n",
        "from google.colab import drive\n",
        "drive.mount('/content/drive')"
      ],
      "metadata": {
        "id": "Yz8AqphYp2HI"
      },
      "execution_count": null,
      "outputs": []
    },
    {
      "cell_type": "code",
      "source": [
        "# Load Dataset\n",
        "# Load the dataset\n",
        "df = pd.read_csv('/content/drive/MyDrive/AlmaBetter/capstone module 1/flights.csv')\n",
        "df1 = pd.read_csv('/content/drive/MyDrive/AlmaBetter/capstone module 1/hotels.csv')\n",
        "df2 = pd.read_csv('/content/drive/MyDrive/AlmaBetter/capstone module 1/users.csv')\n"
      ],
      "metadata": {
        "id": "4CkvbW_SlZ_R"
      },
      "execution_count": null,
      "outputs": []
    },
    {
      "cell_type": "markdown",
      "source": [
        "### Dataset First View"
      ],
      "metadata": {
        "id": "x71ZqKXriCWQ"
      }
    },
    {
      "cell_type": "code",
      "source": [
        "df.head()"
      ],
      "metadata": {
        "id": "g-djQJYSCGOU"
      },
      "execution_count": null,
      "outputs": []
    },
    {
      "cell_type": "code",
      "source": [
        "df1.head(10)"
      ],
      "metadata": {
        "id": "4sYV_InqLIjq"
      },
      "execution_count": null,
      "outputs": []
    },
    {
      "cell_type": "code",
      "source": [
        "df2.head(10)"
      ],
      "metadata": {
        "id": "VPxnXHqkLLn6"
      },
      "execution_count": null,
      "outputs": []
    },
    {
      "cell_type": "code",
      "source": [
        "\n",
        "# Perform the merge (inner join) on 'userCode' and 'code'\n",
        "flight_user_merged = pd.merge(df, df2, left_on='userCode', right_on='code', how='inner')"
      ],
      "metadata": {
        "id": "vOJuTxxyPLCL"
      },
      "execution_count": null,
      "outputs": []
    },
    {
      "cell_type": "code",
      "source": [
        "flight_user_merged.drop(columns=['code'],inplace=True)"
      ],
      "metadata": {
        "id": "um_55mC1QkD7"
      },
      "execution_count": null,
      "outputs": []
    },
    {
      "cell_type": "code",
      "source": [
        "flight_user_merged"
      ],
      "metadata": {
        "id": "H3Ivpsd2XS7l"
      },
      "execution_count": null,
      "outputs": []
    },
    {
      "cell_type": "markdown",
      "source": [
        "### Dataset Rows & Columns count"
      ],
      "metadata": {
        "id": "7hBIi_osiCS2"
      }
    },
    {
      "cell_type": "code",
      "source": [
        "# Dataset Rows & Columns count\n",
        "flight_user_merged.shape"
      ],
      "metadata": {
        "id": "Kllu7SJgmLij"
      },
      "execution_count": null,
      "outputs": []
    },
    {
      "cell_type": "markdown",
      "source": [
        "### Dataset Information"
      ],
      "metadata": {
        "id": "JlHwYmJAmNHm"
      }
    },
    {
      "cell_type": "code",
      "source": [
        "# Dataset Info\n",
        "flight_user_merged.info()"
      ],
      "metadata": {
        "id": "e9hRXRi6meOf"
      },
      "execution_count": null,
      "outputs": []
    },
    {
      "cell_type": "markdown",
      "source": [
        "#### Duplicate Values"
      ],
      "metadata": {
        "id": "35m5QtbWiB9F"
      }
    },
    {
      "cell_type": "code",
      "source": [
        "\n",
        "# Dataset Duplicate Value Count\n",
        "len(flight_user_merged[flight_user_merged.duplicated()])"
      ],
      "metadata": {
        "id": "SdCNIG0KVh3W"
      },
      "execution_count": null,
      "outputs": []
    },
    {
      "cell_type": "code",
      "source": [
        "\n"
      ],
      "metadata": {
        "id": "s_qjQ4zWVrVB"
      },
      "execution_count": null,
      "outputs": []
    },
    {
      "cell_type": "markdown",
      "source": [
        "#### Missing Values/Null Values"
      ],
      "metadata": {
        "id": "PoPl-ycgm1ru"
      }
    },
    {
      "cell_type": "code",
      "source": [
        "# Missing Values/Null Values Count\n",
        "flight_user_merged.isnull().sum()"
      ],
      "metadata": {
        "id": "GgHWkxvamxVg"
      },
      "execution_count": null,
      "outputs": []
    },
    {
      "cell_type": "code",
      "source": [
        "def resumetable(flight_user_merged):\n",
        "    print(f\"Dataset Shape: {flight_user_merged.shape}\")\n",
        "    summary = pd.DataFrame(flight_user_merged.dtypes,columns=['dtypes'])\n",
        "    summary = summary.reset_index()\n",
        "    summary['Name'] = summary['index']\n",
        "    summary = summary[['Name','dtypes']]\n",
        "    summary['Missing'] = flight_user_merged.isnull().sum().values\n",
        "    summary['Uniques'] = flight_user_merged.nunique().values\n",
        "    summary['First Value'] = flight_user_merged.loc[0].values\n",
        "    summary['Second Value'] = flight_user_merged.loc[1].values\n",
        "    return summary\n",
        "result = resumetable(flight_user_merged)\n",
        "result.sort_values('Missing', ascending= False)"
      ],
      "metadata": {
        "id": "hybJtOiN62xd"
      },
      "execution_count": null,
      "outputs": []
    },
    {
      "cell_type": "code",
      "source": [
        "# Visualizing the missing values\n",
        "plt.figure(figsize=(10,6))\n",
        "sns.heatmap(flight_user_merged.isna().transpose(),\n",
        "            cmap=\"YlGnBu\",\n",
        "            cbar_kws={'label': 'Missing Data'})\n",
        "plt.savefig(\"visualizing_missing_data_with_heatmap_Seaborn_Python.png\", dpi=100)"
      ],
      "metadata": {
        "id": "m26V-FZx8X1W"
      },
      "execution_count": null,
      "outputs": []
    },
    {
      "cell_type": "code",
      "source": [
        "flight_user_merged.dropna(inplace =True)"
      ],
      "metadata": {
        "id": "TR9Ys3nEWB7Z"
      },
      "execution_count": null,
      "outputs": []
    },
    {
      "cell_type": "markdown",
      "source": [
        "### What did you know about your dataset?"
      ],
      "metadata": {
        "id": "H0kj-8xxnORC"
      }
    },
    {
      "cell_type": "markdown",
      "source": [
        "Answer Here"
      ],
      "metadata": {
        "id": "gfoNAAC-nUe_"
      }
    },
    {
      "cell_type": "markdown",
      "source": [
        "## ***2. Understanding Your Variables***"
      ],
      "metadata": {
        "id": "nA9Y7ga8ng1Z"
      }
    },
    {
      "cell_type": "code",
      "source": [
        "# Dataset Columns\n",
        "columns=list(flight_user_merged.columns)\n",
        "columns"
      ],
      "metadata": {
        "id": "j7xfkqrt5Ag5"
      },
      "execution_count": null,
      "outputs": []
    },
    {
      "cell_type": "code",
      "source": [
        "flight_user_merged.describe()"
      ],
      "metadata": {
        "id": "EvZrk0G79iW2"
      },
      "execution_count": null,
      "outputs": []
    },
    {
      "cell_type": "code",
      "source": [
        "flight_user_merged.describe(include='object')"
      ],
      "metadata": {
        "id": "cXhOIPDY9wJU"
      },
      "execution_count": null,
      "outputs": []
    },
    {
      "cell_type": "code",
      "source": [
        "# Describing all columns of a DataFrame regardless of data type.\n",
        "flight_user_merged.describe(include='all')"
      ],
      "metadata": {
        "id": "MyOTwRxe-BOb"
      },
      "execution_count": null,
      "outputs": []
    },
    {
      "cell_type": "markdown",
      "source": [
        "### Variables Description"
      ],
      "metadata": {
        "id": "PBTbrJXOngz2"
      }
    },
    {
      "cell_type": "markdown",
      "source": [
        "Answer Here"
      ],
      "metadata": {
        "id": "aJV4KIxSnxay"
      }
    },
    {
      "cell_type": "markdown",
      "source": [
        "### Check Unique Values for each variable."
      ],
      "metadata": {
        "id": "u3PMJOP6ngxN"
      }
    },
    {
      "cell_type": "code",
      "source": [
        "# Check Unique Values for each variable."
      ],
      "metadata": {
        "id": "zms12Yq5n-jE"
      },
      "execution_count": null,
      "outputs": []
    },
    {
      "cell_type": "code",
      "source": [
        "# Check Unique Values for each variable.\n",
        "for column in flight_user_merged.columns:\n",
        "    unique_values = flight_user_merged[column].unique()\n",
        "    print(f\"Unique values in {column} column: {unique_values}\")"
      ],
      "metadata": {
        "id": "Drl71R9v-Ovg"
      },
      "execution_count": null,
      "outputs": []
    },
    {
      "cell_type": "code",
      "source": [
        "# Checking the number of unique values for each column in the\n",
        "flight_user_merged.nunique()"
      ],
      "metadata": {
        "id": "n2-EabUz_LpA"
      },
      "execution_count": null,
      "outputs": []
    },
    {
      "cell_type": "markdown",
      "source": [
        "## 3. ***Data Wrangling***"
      ],
      "metadata": {
        "id": "dauF4eBmngu3"
      }
    },
    {
      "cell_type": "markdown",
      "source": [
        "### Data Wrangling Code"
      ],
      "metadata": {
        "id": "bKJF3rekwFvQ"
      }
    },
    {
      "cell_type": "code",
      "source": [
        "# Write your code to make your dataset analysis ready."
      ],
      "metadata": {
        "id": "wk-9a2fpoLcV"
      },
      "execution_count": null,
      "outputs": []
    },
    {
      "cell_type": "code",
      "source": [
        "flight_user_merged.drop(['name'], axis=1,inplace=True)"
      ],
      "metadata": {
        "id": "X_GTOS4M_lIN"
      },
      "execution_count": null,
      "outputs": []
    },
    {
      "cell_type": "code",
      "source": [
        "flight_user_merged['date'] = pd.to_datetime(flight_user_merged['date'], format='%m/%d/%Y')\n",
        "\n",
        "# Extract year, month, and day\n",
        "flight_user_merged['year'] = flight_user_merged['date'].dt.year\n",
        "flight_user_merged['month'] = flight_user_merged['date'].dt.month\n",
        "flight_user_merged['day'] = flight_user_merged['date'].dt.day"
      ],
      "metadata": {
        "id": "PwysJj5QY5YR"
      },
      "execution_count": null,
      "outputs": []
    },
    {
      "cell_type": "code",
      "source": [
        "flight_user_merged.drop(['date'], axis=1,inplace=True)"
      ],
      "metadata": {
        "id": "muZey-WfZh3c"
      },
      "execution_count": null,
      "outputs": []
    },
    {
      "cell_type": "markdown",
      "source": [
        "### What all manipulations have you done and insights you found?"
      ],
      "metadata": {
        "id": "MSa1f5Uengrz"
      }
    },
    {
      "cell_type": "markdown",
      "source": [
        "Answer Here."
      ],
      "metadata": {
        "id": "LbyXE7I1olp8"
      }
    },
    {
      "cell_type": "markdown",
      "source": [
        "## ***4. Data Vizualization, Storytelling & Experimenting with charts : Understand the relationships between variables***"
      ],
      "metadata": {
        "id": "GF8Ens_Soomf"
      }
    },
    {
      "cell_type": "markdown",
      "source": [
        "#### Chart - 1"
      ],
      "metadata": {
        "id": "0wOQAZs5pc--"
      }
    },
    {
      "cell_type": "code",
      "source": [
        "# Chart - 1 visualization code"
      ],
      "metadata": {
        "id": "7v_ESjsspbW7"
      },
      "execution_count": null,
      "outputs": []
    },
    {
      "cell_type": "code",
      "source": [
        "flight_user_merged.hist(figsize=(10, 8))\n",
        "plt.tight_layout()\n",
        "plt.show()\n"
      ],
      "metadata": {
        "id": "ZWEJs4Fn2vHk"
      },
      "execution_count": null,
      "outputs": []
    },
    {
      "cell_type": "markdown",
      "source": [
        "##### 1. Why did you pick the specific chart?"
      ],
      "metadata": {
        "id": "K5QZ13OEpz2H"
      }
    },
    {
      "cell_type": "markdown",
      "source": [
        "Answer Here."
      ],
      "metadata": {
        "id": "XESiWehPqBRc"
      }
    },
    {
      "cell_type": "markdown",
      "source": [
        "##### 2. What is/are the insight(s) found from the chart?"
      ],
      "metadata": {
        "id": "lQ7QKXXCp7Bj"
      }
    },
    {
      "cell_type": "markdown",
      "source": [
        "Answer Here"
      ],
      "metadata": {
        "id": "C_j1G7yiqdRP"
      }
    },
    {
      "cell_type": "markdown",
      "source": [
        "##### 3. Will the gained insights help creating a positive business impact?\n",
        "Are there any insights that lead to negative growth? Justify with specific reason."
      ],
      "metadata": {
        "id": "448CDAPjqfQr"
      }
    },
    {
      "cell_type": "markdown",
      "source": [
        "Answer Here"
      ],
      "metadata": {
        "id": "3cspy4FjqxJW"
      }
    },
    {
      "cell_type": "markdown",
      "source": [
        "#### Chart - 2"
      ],
      "metadata": {
        "id": "KSlN3yHqYklG"
      }
    },
    {
      "cell_type": "code",
      "source": [
        "# Chart - 2 visualization code"
      ],
      "metadata": {
        "id": "R4YgtaqtYklH"
      },
      "execution_count": null,
      "outputs": []
    },
    {
      "cell_type": "code",
      "source": [
        "plt.figure(figsize=(8, 6))\n",
        "plt.scatter(flight_user_merged['distance'], flight_user_merged['price'])\n",
        "plt.xlabel('Distance')\n",
        "plt.ylabel('Price')\n",
        "plt.title('Scatter plot of Distance vs Price')\n",
        "plt.grid(True)\n",
        "plt.show()"
      ],
      "metadata": {
        "id": "CWqVwiPa3aLw"
      },
      "execution_count": null,
      "outputs": []
    },
    {
      "cell_type": "markdown",
      "source": [
        "##### 1. Why did you pick the specific chart?"
      ],
      "metadata": {
        "id": "t6dVpIINYklI"
      }
    },
    {
      "cell_type": "markdown",
      "source": [
        "Answer Here."
      ],
      "metadata": {
        "id": "5aaW0BYyYklI"
      }
    },
    {
      "cell_type": "markdown",
      "source": [
        "##### 2. What is/are the insight(s) found from the chart?"
      ],
      "metadata": {
        "id": "ijmpgYnKYklI"
      }
    },
    {
      "cell_type": "markdown",
      "source": [
        "Answer Here"
      ],
      "metadata": {
        "id": "PSx9atu2YklI"
      }
    },
    {
      "cell_type": "markdown",
      "source": [
        "##### 3. Will the gained insights help creating a positive business impact?\n",
        "Are there any insights that lead to negative growth? Justify with specific reason."
      ],
      "metadata": {
        "id": "-JiQyfWJYklI"
      }
    },
    {
      "cell_type": "markdown",
      "source": [
        "Answer Here"
      ],
      "metadata": {
        "id": "BcBbebzrYklV"
      }
    },
    {
      "cell_type": "markdown",
      "source": [
        "#### Chart - 3"
      ],
      "metadata": {
        "id": "EM7whBJCYoAo"
      }
    },
    {
      "cell_type": "code",
      "source": [
        "# Chart - 3 visualization code"
      ],
      "metadata": {
        "id": "t6GMdE67YoAp"
      },
      "execution_count": null,
      "outputs": []
    },
    {
      "cell_type": "code",
      "source": [
        "plt.figure(figsize=(10, 6))\n",
        "sns.countplot(x='agency', data=flight_user_merged)\n",
        "plt.title('Count of Travel Agencies')\n",
        "plt.show()"
      ],
      "metadata": {
        "id": "1Tt_eBrL3mXa"
      },
      "execution_count": null,
      "outputs": []
    },
    {
      "cell_type": "markdown",
      "source": [
        "##### 1. Why did you pick the specific chart?"
      ],
      "metadata": {
        "id": "fge-S5ZAYoAp"
      }
    },
    {
      "cell_type": "markdown",
      "source": [
        "Answer Here."
      ],
      "metadata": {
        "id": "5dBItgRVYoAp"
      }
    },
    {
      "cell_type": "markdown",
      "source": [
        "##### 2. What is/are the insight(s) found from the chart?"
      ],
      "metadata": {
        "id": "85gYPyotYoAp"
      }
    },
    {
      "cell_type": "markdown",
      "source": [
        "Answer Here"
      ],
      "metadata": {
        "id": "4jstXR6OYoAp"
      }
    },
    {
      "cell_type": "markdown",
      "source": [
        "##### 3. Will the gained insights help creating a positive business impact?\n",
        "Are there any insights that lead to negative growth? Justify with specific reason."
      ],
      "metadata": {
        "id": "RoGjAbkUYoAp"
      }
    },
    {
      "cell_type": "markdown",
      "source": [
        "Answer Here"
      ],
      "metadata": {
        "id": "zfJ8IqMcYoAp"
      }
    },
    {
      "cell_type": "markdown",
      "source": [
        "#### Chart - 4"
      ],
      "metadata": {
        "id": "4Of9eVA-YrdM"
      }
    },
    {
      "cell_type": "code",
      "source": [
        "# Chart - 4 visualization code"
      ],
      "metadata": {
        "id": "irlUoxc8YrdO"
      },
      "execution_count": null,
      "outputs": []
    },
    {
      "cell_type": "code",
      "source": [
        "# Box plot for price\n",
        "plt.figure(figsize=(8, 6))\n",
        "sns.boxplot(x='flightType', y='price', data=flight_user_merged)\n",
        "plt.title('Box plot of Price across Flight Types')\n",
        "plt.show()"
      ],
      "metadata": {
        "id": "9i0PtcTv3ypL"
      },
      "execution_count": null,
      "outputs": []
    },
    {
      "cell_type": "markdown",
      "source": [
        "##### 1. Why did you pick the specific chart?"
      ],
      "metadata": {
        "id": "iky9q4vBYrdO"
      }
    },
    {
      "cell_type": "markdown",
      "source": [
        "Answer Here."
      ],
      "metadata": {
        "id": "aJRCwT6DYrdO"
      }
    },
    {
      "cell_type": "markdown",
      "source": [
        "##### 2. What is/are the insight(s) found from the chart?"
      ],
      "metadata": {
        "id": "F6T5p64dYrdO"
      }
    },
    {
      "cell_type": "markdown",
      "source": [
        "Answer Here"
      ],
      "metadata": {
        "id": "Xx8WAJvtYrdO"
      }
    },
    {
      "cell_type": "markdown",
      "source": [
        "##### 3. Will the gained insights help creating a positive business impact?\n",
        "Are there any insights that lead to negative growth? Justify with specific reason."
      ],
      "metadata": {
        "id": "y-Ehk30pYrdP"
      }
    },
    {
      "cell_type": "markdown",
      "source": [
        "Answer Here"
      ],
      "metadata": {
        "id": "jLNxxz7MYrdP"
      }
    },
    {
      "cell_type": "markdown",
      "source": [
        "#### Chart - 5"
      ],
      "metadata": {
        "id": "bamQiAODYuh1"
      }
    },
    {
      "cell_type": "code",
      "source": [
        "# Chart - 5 visualization code"
      ],
      "metadata": {
        "id": "TIJwrbroYuh3"
      },
      "execution_count": null,
      "outputs": []
    },
    {
      "cell_type": "code",
      "source": [
        " #Bar plot for gender\n",
        "plt.figure(figsize=(8, 6))\n",
        "sns.countplot(x='gender', data=flight_user_merged)\n",
        "plt.title('Count of Gender')\n",
        "plt.show()\n"
      ],
      "metadata": {
        "id": "6REFRol76eJZ"
      },
      "execution_count": null,
      "outputs": []
    },
    {
      "cell_type": "markdown",
      "source": [
        "##### 1. Why did you pick the specific chart?"
      ],
      "metadata": {
        "id": "QHF8YVU7Yuh3"
      }
    },
    {
      "cell_type": "markdown",
      "source": [
        "Answer Here."
      ],
      "metadata": {
        "id": "dcxuIMRPYuh3"
      }
    },
    {
      "cell_type": "markdown",
      "source": [
        "##### 2. What is/are the insight(s) found from the chart?"
      ],
      "metadata": {
        "id": "GwzvFGzlYuh3"
      }
    },
    {
      "cell_type": "markdown",
      "source": [
        "Answer Here"
      ],
      "metadata": {
        "id": "uyqkiB8YYuh3"
      }
    },
    {
      "cell_type": "markdown",
      "source": [
        "##### 3. Will the gained insights help creating a positive business impact?\n",
        "Are there any insights that lead to negative growth? Justify with specific reason."
      ],
      "metadata": {
        "id": "qYpmQ266Yuh3"
      }
    },
    {
      "cell_type": "markdown",
      "source": [
        "Answer Here"
      ],
      "metadata": {
        "id": "_WtzZ_hCYuh4"
      }
    },
    {
      "cell_type": "markdown",
      "source": [
        "#### Chart - 6"
      ],
      "metadata": {
        "id": "OH-pJp9IphqM"
      }
    },
    {
      "cell_type": "code",
      "source": [
        "# Chart - 6 visualization code"
      ],
      "metadata": {
        "id": "kuRf4wtuphqN"
      },
      "execution_count": null,
      "outputs": []
    },
    {
      "cell_type": "code",
      "source": [
        "# Violin plot for price across agencies\n",
        "plt.figure(figsize=(10, 8))\n",
        "sns.violinplot(x='agency', y='price', data=flight_user_merged)\n",
        "plt.title('Violin plot of Price across Agencies')\n",
        "plt.show()\n"
      ],
      "metadata": {
        "id": "x57y8Epi6vb7"
      },
      "execution_count": null,
      "outputs": []
    },
    {
      "cell_type": "markdown",
      "source": [
        "##### 1. Why did you pick the specific chart?"
      ],
      "metadata": {
        "id": "bbFf2-_FphqN"
      }
    },
    {
      "cell_type": "markdown",
      "source": [
        "Answer Here."
      ],
      "metadata": {
        "id": "loh7H2nzphqN"
      }
    },
    {
      "cell_type": "markdown",
      "source": [
        "##### 2. What is/are the insight(s) found from the chart?"
      ],
      "metadata": {
        "id": "_ouA3fa0phqN"
      }
    },
    {
      "cell_type": "markdown",
      "source": [
        "Answer Here"
      ],
      "metadata": {
        "id": "VECbqPI7phqN"
      }
    },
    {
      "cell_type": "markdown",
      "source": [
        "##### 3. Will the gained insights help creating a positive business impact?\n",
        "Are there any insights that lead to negative growth? Justify with specific reason."
      ],
      "metadata": {
        "id": "Seke61FWphqN"
      }
    },
    {
      "cell_type": "markdown",
      "source": [
        "Answer Here"
      ],
      "metadata": {
        "id": "DW4_bGpfphqN"
      }
    },
    {
      "cell_type": "markdown",
      "source": [
        "#### Chart - 7"
      ],
      "metadata": {
        "id": "PIIx-8_IphqN"
      }
    },
    {
      "cell_type": "code",
      "source": [
        "# Chart - 7 visualization code"
      ],
      "metadata": {
        "id": "lqAIGUfyphqO"
      },
      "execution_count": null,
      "outputs": []
    },
    {
      "cell_type": "code",
      "source": [
        "# Scatter matrix\n",
        "from pandas.plotting import scatter_matrix\n",
        "\n",
        "scatter_matrix(df[['price', 'time', 'distance']], figsize=(10, 10))\n",
        "plt.suptitle('Scatter Matrix of Price, Time, and Distance', y=0.92)\n",
        "plt.show()\n"
      ],
      "metadata": {
        "id": "TLNrZxKr7S61"
      },
      "execution_count": null,
      "outputs": []
    },
    {
      "cell_type": "code",
      "source": [
        "hotel_user_merged.columns"
      ],
      "metadata": {
        "id": "KuYBx__V8tZr"
      },
      "execution_count": null,
      "outputs": []
    },
    {
      "cell_type": "code",
      "source": [
        "\n",
        "\n",
        "# Histograms for numerical variables\n",
        "plt.figure(figsize=(14, 10))\n",
        "\n",
        "plt.subplot(2, 3, 1)\n",
        "sns.histplot(hotel_user_merged['price'], bins=20, kde=True)\n",
        "plt.title('Histogram of Price')\n",
        "\n",
        "plt.subplot(2, 3, 2)\n",
        "sns.histplot(hotel_user_merged['total'], bins=20, kde=True)\n",
        "plt.title('Histogram of Total')\n",
        "\n",
        "plt.subplot(2, 3, 3)\n",
        "sns.histplot(hotel_user_merged['age'].dropna(), bins=20, kde=True)\n",
        "plt.title('Histogram of Age')\n",
        "\n",
        "plt.tight_layout()\n"
      ],
      "metadata": {
        "id": "b-uJD_hUEP7v"
      },
      "execution_count": null,
      "outputs": []
    },
    {
      "cell_type": "markdown",
      "source": [
        "##### 1. Why did you pick the specific chart?"
      ],
      "metadata": {
        "id": "t27r6nlMphqO"
      }
    },
    {
      "cell_type": "markdown",
      "source": [
        "Answer Here."
      ],
      "metadata": {
        "id": "iv6ro40sphqO"
      }
    },
    {
      "cell_type": "markdown",
      "source": [
        "##### 2. What is/are the insight(s) found from the chart?"
      ],
      "metadata": {
        "id": "r2jJGEOYphqO"
      }
    },
    {
      "cell_type": "markdown",
      "source": [
        "Answer Here"
      ],
      "metadata": {
        "id": "Po6ZPi4hphqO"
      }
    },
    {
      "cell_type": "markdown",
      "source": [
        "##### 3. Will the gained insights help creating a positive business impact?\n",
        "Are there any insights that lead to negative growth? Justify with specific reason."
      ],
      "metadata": {
        "id": "b0JNsNcRphqO"
      }
    },
    {
      "cell_type": "markdown",
      "source": [
        "Answer Here"
      ],
      "metadata": {
        "id": "xvSq8iUTphqO"
      }
    },
    {
      "cell_type": "markdown",
      "source": [
        "#### Chart - 8"
      ],
      "metadata": {
        "id": "BZR9WyysphqO"
      }
    },
    {
      "cell_type": "code",
      "source": [
        "# Chart - 8 visualization code"
      ],
      "metadata": {
        "id": "TdPTWpAVphqO"
      },
      "execution_count": null,
      "outputs": []
    },
    {
      "cell_type": "code",
      "source": [
        "\n",
        "# Counting trips by month\n",
        "monthly_counts = hotel_user_merged['month'].value_counts().sort_index()\n",
        "\n",
        "# Plotting the data\n",
        "plt.figure(figsize=(10, 6))\n",
        "sns.barplot(x=monthly_counts.index, y=monthly_counts.values, palette='viridis')\n",
        "plt.xlabel('Month')\n",
        "plt.ylabel('Number of Trips')\n",
        "plt.title('Busiest Months for Travel')\n",
        "plt.tight_layout()\n",
        "plt.show()\n"
      ],
      "metadata": {
        "id": "kM0CJFleP_60"
      },
      "execution_count": null,
      "outputs": []
    },
    {
      "cell_type": "code",
      "source": [
        "# Counting trips by day of the week\n",
        "day_counts = hotel_user_merged['day'].value_counts().sort_index()\n",
        "\n",
        "# Plotting the data\n",
        "plt.figure(figsize=(8, 6))\n",
        "sns.barplot(x=day_counts.index, y=day_counts.values, palette='viridis')\n",
        "plt.xlabel('Day of the Week')\n",
        "plt.ylabel('Number of Trips')\n",
        "plt.title('Travel Frequency by Day of the Week')\n",
        "plt.tight_layout()\n",
        "plt.show()\n"
      ],
      "metadata": {
        "id": "XiqPZ9a4USjJ"
      },
      "execution_count": null,
      "outputs": []
    },
    {
      "cell_type": "code",
      "source": [
        "# Counting trips by year\n",
        "yearly_counts = hotel_user_merged['year'].value_counts().sort_index()\n",
        "\n",
        "# Plotting the data\n",
        "plt.figure(figsize=(10, 6))\n",
        "sns.lineplot(x=yearly_counts.index, y=yearly_counts.values, marker='o', color='b')\n",
        "plt.xlabel('Year')\n",
        "plt.ylabel('Number of Trips')\n",
        "plt.title('Travel Frequency Over the Years')\n",
        "plt.xticks(rotation=45)\n",
        "plt.tight_layout()\n",
        "plt.show()\n"
      ],
      "metadata": {
        "id": "ARwsnTUVWMQL"
      },
      "execution_count": null,
      "outputs": []
    },
    {
      "cell_type": "markdown",
      "source": [
        "##### 1. Why did you pick the specific chart?"
      ],
      "metadata": {
        "id": "jj7wYXLtphqO"
      }
    },
    {
      "cell_type": "markdown",
      "source": [
        "Answer Here."
      ],
      "metadata": {
        "id": "Ob8u6rCTphqO"
      }
    },
    {
      "cell_type": "markdown",
      "source": [
        "##### 2. What is/are the insight(s) found from the chart?"
      ],
      "metadata": {
        "id": "eZrbJ2SmphqO"
      }
    },
    {
      "cell_type": "markdown",
      "source": [
        "Answer Here"
      ],
      "metadata": {
        "id": "mZtgC_hjphqO"
      }
    },
    {
      "cell_type": "markdown",
      "source": [
        "##### 3. Will the gained insights help creating a positive business impact?\n",
        "Are there any insights that lead to negative growth? Justify with specific reason."
      ],
      "metadata": {
        "id": "rFu4xreNphqO"
      }
    },
    {
      "cell_type": "markdown",
      "source": [
        "Answer Here"
      ],
      "metadata": {
        "id": "ey_0qi68phqO"
      }
    },
    {
      "cell_type": "markdown",
      "source": [
        "#### Chart - 9"
      ],
      "metadata": {
        "id": "YJ55k-q6phqO"
      }
    },
    {
      "cell_type": "code",
      "source": [
        "# Chart - 9 visualization code"
      ],
      "metadata": {
        "id": "B2aS4O1ophqO"
      },
      "execution_count": null,
      "outputs": []
    },
    {
      "cell_type": "code",
      "source": [
        "\n",
        "\n",
        "# Counting visits by place\n",
        "place_counts = hotel_user_merged['place'].value_counts()\n",
        "\n",
        "# Plotting the top 10 popular places\n",
        "plt.figure(figsize=(10, 6))\n",
        "sns.barplot(x=place_counts.head(10).index, y=place_counts.head(10).values, palette='viridis')\n",
        "plt.xlabel('Place')\n",
        "plt.ylabel('Number of Visits')\n",
        "plt.title('Most Popular Places Visited by Travelers')\n",
        "plt.xticks(rotation=45)\n",
        "plt.tight_layout()\n",
        "plt.show()\n"
      ],
      "metadata": {
        "id": "lAXIX9fIX2Ow"
      },
      "execution_count": null,
      "outputs": []
    },
    {
      "cell_type": "code",
      "source": [
        "# Grouping by place and calculating average price\n",
        "place_avg_price = hotel_user_merged.groupby('place')['price'].mean()\n",
        "place_visits = hotel_user_merged['place'].value_counts()\n",
        "\n",
        "# Creating a DataFrame with place popularity and average price\n",
        "place_stats = pd.DataFrame({'Visits': place_visits, 'Average Price': place_avg_price})\n",
        "\n",
        "# Plotting the correlation\n",
        "plt.figure(figsize=(8, 6))\n",
        "sns.scatterplot(x='Visits', y='Average Price', data=place_stats, hue='Visits', palette='viridis', s=100)\n",
        "plt.xlabel('Number of Visits')\n",
        "plt.ylabel('Average Price')\n",
        "plt.title('Correlation between Place Popularity and Price')\n",
        "plt.tight_layout()\n",
        "plt.show()\n"
      ],
      "metadata": {
        "id": "e8hkL3asYJ6Q"
      },
      "execution_count": null,
      "outputs": []
    },
    {
      "cell_type": "code",
      "source": [
        "# Grouping by place and calculating average days\n",
        "place_avg_days = hotel_user_merged.groupby('place')['days'].mean()\n",
        "\n",
        "# Plotting the average days spent per place\n",
        "plt.figure(figsize=(10, 6))\n",
        "sns.barplot(x=place_avg_days.index, y=place_avg_days.values, palette='viridis')\n",
        "plt.xlabel('Place')\n",
        "plt.ylabel('Average Days Spent')\n",
        "plt.title('Average Days Spent by Place')\n",
        "plt.xticks(rotation=45)\n",
        "plt.tight_layout()\n",
        "plt.show()\n"
      ],
      "metadata": {
        "id": "8QCdqh5nYww6"
      },
      "execution_count": null,
      "outputs": []
    },
    {
      "cell_type": "markdown",
      "source": [
        "##### 1. Why did you pick the specific chart?"
      ],
      "metadata": {
        "id": "gCFgpxoyphqP"
      }
    },
    {
      "cell_type": "markdown",
      "source": [
        "Answer Here."
      ],
      "metadata": {
        "id": "TVxDimi2phqP"
      }
    },
    {
      "cell_type": "markdown",
      "source": [
        "##### 2. What is/are the insight(s) found from the chart?"
      ],
      "metadata": {
        "id": "OVtJsKN_phqQ"
      }
    },
    {
      "cell_type": "markdown",
      "source": [
        "Answer Here"
      ],
      "metadata": {
        "id": "ngGi97qjphqQ"
      }
    },
    {
      "cell_type": "markdown",
      "source": [
        "##### 3. Will the gained insights help creating a positive business impact?\n",
        "Are there any insights that lead to negative growth? Justify with specific reason."
      ],
      "metadata": {
        "id": "lssrdh5qphqQ"
      }
    },
    {
      "cell_type": "markdown",
      "source": [
        "Answer Here"
      ],
      "metadata": {
        "id": "tBpY5ekJphqQ"
      }
    },
    {
      "cell_type": "markdown",
      "source": [
        "#### Chart - 10"
      ],
      "metadata": {
        "id": "U2RJ9gkRphqQ"
      }
    },
    {
      "cell_type": "code",
      "source": [
        "\n",
        "\n",
        "\n",
        "# Distribution of travelers by gender\n",
        "gender_counts = hotel_user_merged['gender'].value_counts()\n",
        "\n",
        "# Distribution of travelers by age\n",
        "plt.figure(figsize=(10, 6))\n",
        "sns.histplot(hotel_user_merged['age'], bins=20, kde=True, color='skyblue')\n",
        "plt.xlabel('Age')\n",
        "plt.ylabel('Count')\n",
        "plt.title('Distribution of Travelers by Age')\n",
        "plt.tight_layout()\n",
        "plt.show()\n"
      ],
      "metadata": {
        "id": "GM7a4YP4phqQ"
      },
      "execution_count": null,
      "outputs": []
    },
    {
      "cell_type": "markdown",
      "source": [
        "##### 1. Why did you pick the specific chart?"
      ],
      "metadata": {
        "id": "1M8mcRywphqQ"
      }
    },
    {
      "cell_type": "markdown",
      "source": [
        "Answer Here."
      ],
      "metadata": {
        "id": "8agQvks0phqQ"
      }
    },
    {
      "cell_type": "markdown",
      "source": [
        "##### 2. What is/are the insight(s) found from the chart?"
      ],
      "metadata": {
        "id": "tgIPom80phqQ"
      }
    },
    {
      "cell_type": "markdown",
      "source": [
        "Answer Here"
      ],
      "metadata": {
        "id": "Qp13pnNzphqQ"
      }
    },
    {
      "cell_type": "markdown",
      "source": [
        "##### 3. Will the gained insights help creating a positive business impact?\n",
        "Are there any insights that lead to negative growth? Justify with specific reason."
      ],
      "metadata": {
        "id": "JMzcOPDDphqR"
      }
    },
    {
      "cell_type": "markdown",
      "source": [
        "Answer Here"
      ],
      "metadata": {
        "id": "R4Ka1PC2phqR"
      }
    },
    {
      "cell_type": "code",
      "source": [
        "hotel_user_merged.columns"
      ],
      "metadata": {
        "id": "zaERe5sDLM0R"
      },
      "execution_count": null,
      "outputs": []
    },
    {
      "cell_type": "markdown",
      "source": [
        "#### Chart - 11"
      ],
      "metadata": {
        "id": "x-EpHcCOp1ci"
      }
    },
    {
      "cell_type": "code",
      "source": [
        "# Chart - 11 visualization code"
      ],
      "metadata": {
        "id": "mAQTIvtqp1cj"
      },
      "execution_count": null,
      "outputs": []
    },
    {
      "cell_type": "code",
      "source": [
        "\n",
        "\n",
        "\n",
        "# Scatter plot to visualize the relationship\n",
        "plt.figure(figsize=(8, 6))\n",
        "sns.scatterplot(x='days', y='total', data=hotel_user_merged)\n",
        "plt.title('Relationship between Days of Travel and Total Expenditure')\n",
        "plt.xlabel('Days of Travel')\n",
        "plt.ylabel('Total Expenditure')\n",
        "plt.grid(True)\n",
        "plt.show()\n",
        "\n",
        "# Calculate correlation coefficient\n",
        "correlation_coeff = hotel_user_merged['days'].corr(hotel_user_merged['total'])\n",
        "print(f\"Correlation Coefficient between Days and Total Expenditure: {correlation_coeff:.2f}\")\n",
        "\n",
        "\n",
        "\n"
      ],
      "metadata": {
        "id": "-pakwfp0SE-y"
      },
      "execution_count": null,
      "outputs": []
    },
    {
      "cell_type": "markdown",
      "source": [
        "##### 1. Why did you pick the specific chart?"
      ],
      "metadata": {
        "id": "X_VqEhTip1ck"
      }
    },
    {
      "cell_type": "markdown",
      "source": [
        "Answer Here."
      ],
      "metadata": {
        "id": "-vsMzt_np1ck"
      }
    },
    {
      "cell_type": "markdown",
      "source": [
        "##### 2. What is/are the insight(s) found from the chart?"
      ],
      "metadata": {
        "id": "8zGJKyg5p1ck"
      }
    },
    {
      "cell_type": "markdown",
      "source": [
        "Answer Here"
      ],
      "metadata": {
        "id": "ZYdMsrqVp1ck"
      }
    },
    {
      "cell_type": "markdown",
      "source": [
        "##### 3. Will the gained insights help creating a positive business impact?\n",
        "Are there any insights that lead to negative growth? Justify with specific reason."
      ],
      "metadata": {
        "id": "PVzmfK_Ep1ck"
      }
    },
    {
      "cell_type": "markdown",
      "source": [
        "Answer Here"
      ],
      "metadata": {
        "id": "druuKYZpp1ck"
      }
    },
    {
      "cell_type": "markdown",
      "source": [
        "#### Chart - 12"
      ],
      "metadata": {
        "id": "n3dbpmDWp1ck"
      }
    },
    {
      "cell_type": "code",
      "source": [
        "# Chart - 12 visualization code"
      ],
      "metadata": {
        "id": "bwevp1tKp1ck"
      },
      "execution_count": null,
      "outputs": []
    },
    {
      "cell_type": "code",
      "source": [
        "\n",
        "average_age_by_gender = hotel_user_merged.groupby('gender')['age'].mean()\n",
        "\n",
        "print(\"Average age by gender:\")\n",
        "print(average_age_by_gender)\n"
      ],
      "metadata": {
        "id": "u09ux67tWiXd"
      },
      "execution_count": null,
      "outputs": []
    },
    {
      "cell_type": "code",
      "source": [
        "# Bar plot for average age by gender\n",
        "average_age_by_gender.plot(kind='bar', color=['blue', 'pink'])\n",
        "plt.title('Average Age of Travelers by Gender')\n",
        "plt.xlabel('Gender')\n",
        "plt.ylabel('Average Age')\n",
        "plt.xticks(rotation=0)\n",
        "plt.grid(axis='y')\n",
        "plt.show()"
      ],
      "metadata": {
        "id": "w946t4sOW_5b"
      },
      "execution_count": null,
      "outputs": []
    },
    {
      "cell_type": "markdown",
      "source": [
        "##### 1. Why did you pick the specific chart?"
      ],
      "metadata": {
        "id": "ylSl6qgtp1ck"
      }
    },
    {
      "cell_type": "markdown",
      "source": [
        "Answer Here."
      ],
      "metadata": {
        "id": "m2xqNkiQp1ck"
      }
    },
    {
      "cell_type": "markdown",
      "source": [
        "##### 2. What is/are the insight(s) found from the chart?"
      ],
      "metadata": {
        "id": "ZWILFDl5p1ck"
      }
    },
    {
      "cell_type": "markdown",
      "source": [
        "Answer Here"
      ],
      "metadata": {
        "id": "x-lUsV2mp1ck"
      }
    },
    {
      "cell_type": "markdown",
      "source": [
        "##### 3. Will the gained insights help creating a positive business impact?\n",
        "Are there any insights that lead to negative growth? Justify with specific reason."
      ],
      "metadata": {
        "id": "M7G43BXep1ck"
      }
    },
    {
      "cell_type": "markdown",
      "source": [
        "Answer Here"
      ],
      "metadata": {
        "id": "5wwDJXsLp1cl"
      }
    },
    {
      "cell_type": "markdown",
      "source": [
        "#### Chart - 13"
      ],
      "metadata": {
        "id": "Ag9LCva-p1cl"
      }
    },
    {
      "cell_type": "code",
      "source": [
        "# Chart - 13 visualization code"
      ],
      "metadata": {
        "id": "EUfxeq9-p1cl"
      },
      "execution_count": null,
      "outputs": []
    },
    {
      "cell_type": "code",
      "source": [
        "\n",
        "company_stats = hotel_user_merged.groupby('company').agg({'age': 'mean', 'gender': lambda x: x.value_counts(normalize=True).to_dict()})\n",
        "\n",
        "print(\"Statistics by Company:\")\n",
        "print(company_stats)\n"
      ],
      "metadata": {
        "id": "bXoAaYFXXud7"
      },
      "execution_count": null,
      "outputs": []
    },
    {
      "cell_type": "code",
      "source": [
        "company_stats['predominant_gender'] = company_stats['gender'].apply(lambda x: max(x, key=x.get))\n",
        "\n",
        "print(\"Predominant Gender by Company:\")\n",
        "print(company_stats[['predominant_gender']])\n"
      ],
      "metadata": {
        "id": "s6Vv-WmSY0lf"
      },
      "execution_count": null,
      "outputs": []
    },
    {
      "cell_type": "markdown",
      "source": [
        "##### 1. Why did you pick the specific chart?"
      ],
      "metadata": {
        "id": "E6MkPsBcp1cl"
      }
    },
    {
      "cell_type": "markdown",
      "source": [
        "Answer Here."
      ],
      "metadata": {
        "id": "V22bRsFWp1cl"
      }
    },
    {
      "cell_type": "markdown",
      "source": [
        "##### 2. What is/are the insight(s) found from the chart?"
      ],
      "metadata": {
        "id": "2cELzS2fp1cl"
      }
    },
    {
      "cell_type": "markdown",
      "source": [
        "Answer Here"
      ],
      "metadata": {
        "id": "ozQPc2_Ip1cl"
      }
    },
    {
      "cell_type": "markdown",
      "source": [
        "##### 3. Will the gained insights help creating a positive business impact?\n",
        "Are there any insights that lead to negative growth? Justify with specific reason."
      ],
      "metadata": {
        "id": "3MPXvC8up1cl"
      }
    },
    {
      "cell_type": "markdown",
      "source": [
        "Answer Here"
      ],
      "metadata": {
        "id": "GL8l1tdLp1cl"
      }
    },
    {
      "cell_type": "markdown",
      "source": [
        "#### Chart - 14 - Correlation Heatmap"
      ],
      "metadata": {
        "id": "NC_X3p0fY2L0"
      }
    },
    {
      "cell_type": "code",
      "source": [
        "# Correlation Heatmap visualization code"
      ],
      "metadata": {
        "id": "xyC9zolEZNRQ"
      },
      "execution_count": null,
      "outputs": []
    },
    {
      "cell_type": "code",
      "source": [
        "\n",
        "# Replace with your actual DataFrame and relevant numeric columns\n",
        "data = {\n",
        "    'price': [100, 200, 150, 180],\n",
        "    'days': [3, 5, 4, 6],\n",
        "    'age': [30, 25, 35, 40]\n",
        "}\n",
        "hotel_user_merged = pd.DataFrame(data)\n",
        "\n",
        "# Calculate the correlation matrix\n",
        "corr_matrix = hotel_user_merged.corr()\n",
        "\n",
        "# Create a heatmap to visualize the correlation matrix\n",
        "plt.figure(figsize=(10, 8))\n",
        "sns.heatmap(corr_matrix, annot=True, cmap='coolwarm', vmin=-1, vmax=1)\n",
        "plt.title('Correlation Matrix Heatmap')\n",
        "plt.show()\n",
        "\n",
        "\n",
        "# Calculate correlation matrix for encoded DataFrame\n",
        "corr_matrix_encoded = hotel_user_merged.corr()\n",
        "\n"
      ],
      "metadata": {
        "id": "rPHcvyf7a51z"
      },
      "execution_count": null,
      "outputs": []
    },
    {
      "cell_type": "markdown",
      "source": [
        "##### 1. Why did you pick the specific chart?"
      ],
      "metadata": {
        "id": "UV0SzAkaZNRQ"
      }
    },
    {
      "cell_type": "markdown",
      "source": [
        "Answer Here."
      ],
      "metadata": {
        "id": "DVPuT8LYZNRQ"
      }
    },
    {
      "cell_type": "markdown",
      "source": [
        "##### 2. What is/are the insight(s) found from the chart?"
      ],
      "metadata": {
        "id": "YPEH6qLeZNRQ"
      }
    },
    {
      "cell_type": "markdown",
      "source": [
        "Answer Here"
      ],
      "metadata": {
        "id": "bfSqtnDqZNRR"
      }
    },
    {
      "cell_type": "markdown",
      "source": [
        "#### Chart - 15 - Pair Plot"
      ],
      "metadata": {
        "id": "q29F0dvdveiT"
      }
    },
    {
      "cell_type": "code",
      "source": [
        "# Pair Plot visualization code"
      ],
      "metadata": {
        "id": "o58-TEIhveiU"
      },
      "execution_count": null,
      "outputs": []
    },
    {
      "cell_type": "code",
      "source": [
        "# Pairplot for numerical variables\n",
        "sns.pairplot(flight_user_merged[['price', 'time', 'distance', 'month', 'age']])\n",
        "plt.suptitle('Pairplot of Numerical Variables', y=1.02)\n",
        "plt.show()"
      ],
      "metadata": {
        "id": "cdmLKFF46Rrq"
      },
      "execution_count": null,
      "outputs": []
    },
    {
      "cell_type": "markdown",
      "source": [
        "##### 1. Why did you pick the specific chart?"
      ],
      "metadata": {
        "id": "EXh0U9oCveiU"
      }
    },
    {
      "cell_type": "markdown",
      "source": [
        "Answer Here."
      ],
      "metadata": {
        "id": "eMmPjTByveiU"
      }
    },
    {
      "cell_type": "markdown",
      "source": [
        "##### 2. What is/are the insight(s) found from the chart?"
      ],
      "metadata": {
        "id": "22aHeOlLveiV"
      }
    },
    {
      "cell_type": "markdown",
      "source": [
        "Answer Here"
      ],
      "metadata": {
        "id": "uPQ8RGwHveiV"
      }
    },
    {
      "cell_type": "markdown",
      "source": [
        "## ***5. Hypothesis Testing***"
      ],
      "metadata": {
        "id": "g-ATYxFrGrvw"
      }
    },
    {
      "cell_type": "markdown",
      "source": [
        "### Based on your chart experiments, define three hypothetical statements from the dataset. In the next three questions, perform hypothesis testing to obtain final conclusion about the statements through your code and statistical testing."
      ],
      "metadata": {
        "id": "Yfr_Vlr8HBkt"
      }
    },
    {
      "cell_type": "markdown",
      "source": [
        "Answer Here."
      ],
      "metadata": {
        "id": "-7MS06SUHkB-"
      }
    },
    {
      "cell_type": "markdown",
      "source": [
        "### Hypothetical Statement - 1"
      ],
      "metadata": {
        "id": "8yEUt7NnHlrM"
      }
    },
    {
      "cell_type": "markdown",
      "source": [
        "#### 1. State Your research hypothesis as a null hypothesis and alternate hypothesis."
      ],
      "metadata": {
        "id": "tEA2Xm5dHt1r"
      }
    },
    {
      "cell_type": "markdown",
      "source": [
        "Answer Here."
      ],
      "metadata": {
        "id": "HI9ZP0laH0D-"
      }
    },
    {
      "cell_type": "markdown",
      "source": [
        "#### 2. Perform an appropriate statistical test."
      ],
      "metadata": {
        "id": "I79__PHVH19G"
      }
    },
    {
      "cell_type": "code",
      "source": [
        "# Perform Statistical Test to obtain P-Value"
      ],
      "metadata": {
        "id": "oZrfquKtyian"
      },
      "execution_count": null,
      "outputs": []
    },
    {
      "cell_type": "markdown",
      "source": [
        "##### Which statistical test have you done to obtain P-Value?"
      ],
      "metadata": {
        "id": "Ou-I18pAyIpj"
      }
    },
    {
      "cell_type": "markdown",
      "source": [
        "Answer Here."
      ],
      "metadata": {
        "id": "s2U0kk00ygSB"
      }
    },
    {
      "cell_type": "markdown",
      "source": [
        "##### Why did you choose the specific statistical test?"
      ],
      "metadata": {
        "id": "fF3858GYyt-u"
      }
    },
    {
      "cell_type": "markdown",
      "source": [
        "Answer Here."
      ],
      "metadata": {
        "id": "HO4K0gP5y3B4"
      }
    },
    {
      "cell_type": "markdown",
      "source": [
        "### Hypothetical Statement - 2"
      ],
      "metadata": {
        "id": "4_0_7-oCpUZd"
      }
    },
    {
      "cell_type": "markdown",
      "source": [
        "#### 1. State Your research hypothesis as a null hypothesis and alternate hypothesis."
      ],
      "metadata": {
        "id": "hwyV_J3ipUZe"
      }
    },
    {
      "cell_type": "markdown",
      "source": [
        "Answer Here."
      ],
      "metadata": {
        "id": "FnpLGJ-4pUZe"
      }
    },
    {
      "cell_type": "markdown",
      "source": [
        "#### 2. Perform an appropriate statistical test."
      ],
      "metadata": {
        "id": "3yB-zSqbpUZe"
      }
    },
    {
      "cell_type": "code",
      "source": [
        "# Perform Statistical Test to obtain P-Value"
      ],
      "metadata": {
        "id": "sWxdNTXNpUZe"
      },
      "execution_count": null,
      "outputs": []
    },
    {
      "cell_type": "markdown",
      "source": [
        "##### Which statistical test have you done to obtain P-Value?"
      ],
      "metadata": {
        "id": "dEUvejAfpUZe"
      }
    },
    {
      "cell_type": "markdown",
      "source": [
        "Answer Here."
      ],
      "metadata": {
        "id": "oLDrPz7HpUZf"
      }
    },
    {
      "cell_type": "markdown",
      "source": [
        "##### Why did you choose the specific statistical test?"
      ],
      "metadata": {
        "id": "Fd15vwWVpUZf"
      }
    },
    {
      "cell_type": "markdown",
      "source": [
        "Answer Here."
      ],
      "metadata": {
        "id": "4xOGYyiBpUZf"
      }
    },
    {
      "cell_type": "markdown",
      "source": [
        "### Hypothetical Statement - 3"
      ],
      "metadata": {
        "id": "bn_IUdTipZyH"
      }
    },
    {
      "cell_type": "markdown",
      "source": [
        "#### 1. State Your research hypothesis as a null hypothesis and alternate hypothesis."
      ],
      "metadata": {
        "id": "49K5P_iCpZyH"
      }
    },
    {
      "cell_type": "markdown",
      "source": [
        "Answer Here."
      ],
      "metadata": {
        "id": "7gWI5rT9pZyH"
      }
    },
    {
      "cell_type": "markdown",
      "source": [
        "#### 2. Perform an appropriate statistical test."
      ],
      "metadata": {
        "id": "Nff-vKELpZyI"
      }
    },
    {
      "cell_type": "code",
      "source": [
        "# Perform Statistical Test to obtain P-Value"
      ],
      "metadata": {
        "id": "s6AnJQjtpZyI"
      },
      "execution_count": null,
      "outputs": []
    },
    {
      "cell_type": "markdown",
      "source": [
        "##### Which statistical test have you done to obtain P-Value?"
      ],
      "metadata": {
        "id": "kLW572S8pZyI"
      }
    },
    {
      "cell_type": "markdown",
      "source": [
        "Answer Here."
      ],
      "metadata": {
        "id": "ytWJ8v15pZyI"
      }
    },
    {
      "cell_type": "markdown",
      "source": [
        "##### Why did you choose the specific statistical test?"
      ],
      "metadata": {
        "id": "dWbDXHzopZyI"
      }
    },
    {
      "cell_type": "markdown",
      "source": [
        "Answer Here."
      ],
      "metadata": {
        "id": "M99G98V6pZyI"
      }
    },
    {
      "cell_type": "markdown",
      "source": [
        "## ***6. Feature Engineering & Data Pre-processing***"
      ],
      "metadata": {
        "id": "yLjJCtPM0KBk"
      }
    },
    {
      "cell_type": "markdown",
      "source": [
        "### 1. Handling Missing Values"
      ],
      "metadata": {
        "id": "xiyOF9F70UgQ"
      }
    },
    {
      "cell_type": "code",
      "source": [
        "# Handling Missing Values & Missing Value Imputation"
      ],
      "metadata": {
        "id": "iRsAHk1K0fpS"
      },
      "execution_count": null,
      "outputs": []
    },
    {
      "cell_type": "code",
      "source": [
        "flight_user_merged.head()"
      ],
      "metadata": {
        "id": "ZEruwS7IB29-"
      },
      "execution_count": null,
      "outputs": []
    },
    {
      "cell_type": "code",
      "source": [
        "flight_user_merged.isna().sum()"
      ],
      "metadata": {
        "id": "32w07C_FCERx"
      },
      "execution_count": null,
      "outputs": []
    },
    {
      "cell_type": "code",
      "source": [
        "# missing value percentage\n",
        "round((flight_user_merged.isna().sum() / len(flight_user_merged))*100,2)"
      ],
      "metadata": {
        "id": "a7d7-ZgACQUE"
      },
      "execution_count": null,
      "outputs": []
    },
    {
      "cell_type": "code",
      "source": [
        "mn.matrix(flight_user_merged,figsize=(10,8));\n"
      ],
      "metadata": {
        "id": "MIYKn9J3CkA_"
      },
      "execution_count": null,
      "outputs": []
    },
    {
      "cell_type": "code",
      "source": [
        "## Copy of data\n",
        "flight = flight_user_merged.copy()\n",
        "flight = flight.dropna(axis=0)\n",
        "flight.isna().sum()"
      ],
      "metadata": {
        "id": "wOnfWC5jCzR8"
      },
      "execution_count": null,
      "outputs": []
    },
    {
      "cell_type": "code",
      "source": [
        "print('Dataset Size With Missing Values',flight_user_merged.shape)"
      ],
      "metadata": {
        "id": "_lBiKgetDyCj"
      },
      "execution_count": null,
      "outputs": []
    },
    {
      "cell_type": "code",
      "source": [
        "print('Dataset Size Without Missing Values',flight.shape)"
      ],
      "metadata": {
        "id": "Ic9C5Y8aD9ve"
      },
      "execution_count": null,
      "outputs": []
    },
    {
      "cell_type": "markdown",
      "source": [
        "#### What all missing value imputation techniques have you used and why did you use those techniques?"
      ],
      "metadata": {
        "id": "7wuGOrhz0itI"
      }
    },
    {
      "cell_type": "markdown",
      "source": [
        "Answer Here."
      ],
      "metadata": {
        "id": "1ixusLtI0pqI"
      }
    },
    {
      "cell_type": "markdown",
      "source": [
        "### 2. Handling Outliers"
      ],
      "metadata": {
        "id": "id1riN9m0vUs"
      }
    },
    {
      "cell_type": "code",
      "source": [
        "# Handling Outliers & Outlier treatments\n",
        "import seaborn as sns\n",
        "import matplotlib.pyplot as plt"
      ],
      "metadata": {
        "id": "M6w2CzZf04JK"
      },
      "execution_count": null,
      "outputs": []
    },
    {
      "cell_type": "code",
      "source": [
        "plt.figure(figsize=(15,5))\n",
        "sns.boxplot(data=flight)\n",
        "plt.xticks(rotation = 90)"
      ],
      "metadata": {
        "id": "n6JAuQvvXWLH"
      },
      "execution_count": null,
      "outputs": []
    },
    {
      "cell_type": "markdown",
      "source": [
        "NO outliers are present"
      ],
      "metadata": {
        "id": "dk7Zt6F8Xmdi"
      }
    },
    {
      "cell_type": "markdown",
      "source": [
        "### 3. Categorical Encoding"
      ],
      "metadata": {
        "id": "89xtkJwZ18nB"
      }
    },
    {
      "cell_type": "code",
      "source": [
        "# Encode your categorical columns"
      ],
      "metadata": {
        "id": "21JmIYMG2hEo"
      },
      "execution_count": null,
      "outputs": []
    },
    {
      "cell_type": "code",
      "source": [
        "flight"
      ],
      "metadata": {
        "id": "68jwxtE6X5HH"
      },
      "execution_count": null,
      "outputs": []
    },
    {
      "cell_type": "code",
      "source": [
        "# prompt: Using dataframe flight: get dummies of categorical columns\n",
        "\n",
        "flight = pd.get_dummies(flight, columns=['from', 'to', 'flightType', 'agency', 'gender', 'company'], dtype=int)\n"
      ],
      "metadata": {
        "id": "95G_HXkLfrBX"
      },
      "execution_count": null,
      "outputs": []
    },
    {
      "cell_type": "code",
      "source": [
        "flight"
      ],
      "metadata": {
        "id": "tVlqa3Pyfw1c"
      },
      "execution_count": null,
      "outputs": []
    },
    {
      "cell_type": "markdown",
      "source": [
        "#### What all categorical encoding techniques have you used & why did you use those techniques?"
      ],
      "metadata": {
        "id": "67NQN5KX2AMe"
      }
    },
    {
      "cell_type": "markdown",
      "source": [
        "Answer Here."
      ],
      "metadata": {
        "id": "UDaue5h32n_G"
      }
    },
    {
      "cell_type": "markdown",
      "source": [
        "### 4. Feature Manipulation & Selection"
      ],
      "metadata": {
        "id": "-oLEiFgy-5Pf"
      }
    },
    {
      "cell_type": "markdown",
      "source": [
        "#### 1. Feature Manipulation"
      ],
      "metadata": {
        "id": "C74aWNz2AliB"
      }
    },
    {
      "cell_type": "code",
      "source": [
        "# Manipulate Features to minimize feature correlation and create new features\n",
        "\n",
        "# Select your features wisely to avoid overfitting\n",
        "corr = flight.corr()\n",
        "corr.style.background_gradient(cmap='ocean')"
      ],
      "metadata": {
        "id": "h1qC4yhBApWC"
      },
      "execution_count": null,
      "outputs": []
    },
    {
      "cell_type": "markdown",
      "source": [
        "#### 2. Feature Selection"
      ],
      "metadata": {
        "id": "2DejudWSA-a0"
      }
    },
    {
      "cell_type": "code",
      "source": [
        "from statsmodels.stats.outliers_influence import variance_inflation_factor\n"
      ],
      "metadata": {
        "id": "pZTZ2_3fhgiw"
      },
      "execution_count": null,
      "outputs": []
    },
    {
      "cell_type": "code",
      "source": [
        "def calc_vif(X):\n",
        "\n",
        "   # Calculating VIF:\n",
        "\n",
        "   vif = pd.DataFrame()\n",
        "   vif[\"variables\"] = X.columns\n",
        "   vif[\"VIF\"] = [variance_inflation_factor(X.values, i) for i in range(X.shape[1])]\n",
        "\n",
        "   return(vif)"
      ],
      "metadata": {
        "id": "O-M10rmIheyb"
      },
      "execution_count": null,
      "outputs": []
    },
    {
      "cell_type": "code",
      "source": [
        "flight.columns"
      ],
      "metadata": {
        "id": "QMfzPlGEh5zj"
      },
      "execution_count": null,
      "outputs": []
    },
    {
      "cell_type": "code",
      "source": [
        "calc_vif(flight[[i for i in flight.describe().columns if i not in ['price','from_Aracaju (SE)', 'from_Brasilia (DF)',\n",
        "       'from_Campo Grande (MS)', 'from_Florianopolis (SC)', 'from_Natal (RN)',\n",
        "       'from_Recife (PE)', 'from_Rio de Janeiro (RJ)', 'from_Salvador (BH)',\n",
        "       'from_Sao Paulo (SP)', 'to_Aracaju (SE)', 'to_Brasilia (DF)',\n",
        "       'to_Campo Grande (MS)', 'to_Florianopolis (SC)', 'to_Natal (RN)',\n",
        "       'to_Recife (PE)', 'to_Rio de Janeiro (RJ)', 'to_Salvador (BH)',\n",
        "       'to_Sao Paulo (SP)','gender_female', 'gender_male',\n",
        "        'agency_CloudFy', 'agency_FlyingDrops',\n",
        "       'agency_Rainbow', 'gender_none',\n",
        "       'company_4You','userCode','time','month','travelCode','company_Monsters CYA',\n",
        "       'company_Umbrella LTDA', 'company_Wonka Company','company_Acme Factory','year']]])\n"
      ],
      "metadata": {
        "id": "CRuxJpFMhzMd"
      },
      "execution_count": null,
      "outputs": []
    },
    {
      "cell_type": "code",
      "source": [
        "\n",
        "flight=flight.drop(columns=['from_Aracaju (SE)', 'from_Brasilia (DF)',\n",
        "       'from_Campo Grande (MS)', 'from_Florianopolis (SC)', 'from_Natal (RN)',\n",
        "       'from_Recife (PE)', 'from_Rio de Janeiro (RJ)', 'from_Salvador (BH)',\n",
        "       'from_Sao Paulo (SP)', 'to_Aracaju (SE)', 'to_Brasilia (DF)',\n",
        "       'to_Campo Grande (MS)', 'to_Florianopolis (SC)', 'to_Natal (RN)',\n",
        "       'to_Recife (PE)', 'to_Rio de Janeiro (RJ)', 'to_Salvador (BH)',\n",
        "       'to_Sao Paulo (SP)','gender_female', 'gender_male',\n",
        "        'agency_CloudFy', 'agency_FlyingDrops',\n",
        "       'agency_Rainbow', 'gender_none',\n",
        "       'company_4You','userCode','time','month','travelCode','company_Monsters CYA',\n",
        "       'company_Umbrella LTDA', 'company_Wonka Company','company_Acme Factory','year'],axis=1)"
      ],
      "metadata": {
        "id": "5Zhf_eq6jOkx"
      },
      "execution_count": null,
      "outputs": []
    },
    {
      "cell_type": "code",
      "source": [
        "# Select your features wisely to avoid overfitting\n",
        "def calc_vif(X):\n",
        "\n",
        "   # Calculating VIF:\n",
        "\n",
        "   vif = pd.DataFrame()\n",
        "   vif[\"variables\"] = X.columns\n",
        "   vif[\"VIF\"] = [variance_inflation_factor(X.values, i) for i in range(X.shape[1])]\n",
        "\n",
        "   return(vif)"
      ],
      "metadata": {
        "id": "YLhe8UmaBCEE"
      },
      "execution_count": null,
      "outputs": []
    },
    {
      "cell_type": "markdown",
      "source": [
        "##### What all feature selection methods have you used  and why?"
      ],
      "metadata": {
        "id": "pEMng2IbBLp7"
      }
    },
    {
      "cell_type": "markdown",
      "source": [
        "Answer Here."
      ],
      "metadata": {
        "id": "rb2Lh6Z8BgGs"
      }
    },
    {
      "cell_type": "markdown",
      "source": [
        "##### Which all features you found important and why?"
      ],
      "metadata": {
        "id": "rAdphbQ9Bhjc"
      }
    },
    {
      "cell_type": "markdown",
      "source": [
        "Answer Here."
      ],
      "metadata": {
        "id": "fGgaEstsBnaf"
      }
    },
    {
      "cell_type": "markdown",
      "source": [
        "### 5. Data Transformation"
      ],
      "metadata": {
        "id": "TNVZ9zx19K6k"
      }
    },
    {
      "cell_type": "markdown",
      "source": [
        "#### Do you think that your data needs to be transformed? If yes, which transformation have you used. Explain Why?"
      ],
      "metadata": {
        "id": "nqoHp30x9hH9"
      }
    },
    {
      "cell_type": "code",
      "source": [
        "# Transform Your data\n",
        "\n",
        "# Transform Your data\n",
        "for col in flight:\n",
        "  plt.figure(figsize=(10,6))\n",
        "  sns.displot(x=flight[col] , color ='green')\n",
        "  plt.xlabel(col)\n",
        "  plt.axvline(flight[col].mean(),color='magenta', linestyle='dashed',linewidth=2)\n",
        "  plt.axvline(flight[col].median(),color='cyan', linestyle='dashed',linewidth=2)\n",
        "  plt.show()\n",
        "plt.show()"
      ],
      "metadata": {
        "id": "I6quWQ1T9rtH"
      },
      "execution_count": null,
      "outputs": []
    },
    {
      "cell_type": "markdown",
      "source": [
        "### 6. Data Scaling"
      ],
      "metadata": {
        "id": "rMDnDkt2B6du"
      }
    },
    {
      "cell_type": "markdown",
      "source": [
        "flight"
      ],
      "metadata": {
        "id": "p8Dq3YzlkNzL"
      }
    },
    {
      "cell_type": "code",
      "source": [
        "# Scaling your data\n",
        "from numpy import asarray\n",
        "from sklearn.preprocessing import MinMaxScaler ,StandardScaler\n",
        "\n",
        "scaler = StandardScaler()\n",
        "scaled = scaler.fit_transform(flight)\n",
        "print(scaled)"
      ],
      "metadata": {
        "id": "dL9LWpySC6x_"
      },
      "execution_count": null,
      "outputs": []
    },
    {
      "cell_type": "code",
      "source": [
        "\n",
        "# Creating copy of data:\n",
        "\n",
        "data_ml= flight.copy()\n",
        "\n",
        "# Creating the data of dependent and independent variables:\n",
        "y = flight['price']\n",
        "X = flight.drop(columns=['price'], axis=1)"
      ],
      "metadata": {
        "id": "XP6PgPK9kM0B"
      },
      "execution_count": null,
      "outputs": []
    },
    {
      "cell_type": "markdown",
      "source": [
        "##### Which method have you used to scale you data and why?"
      ],
      "metadata": {
        "id": "yiiVWRdJDDil"
      }
    },
    {
      "cell_type": "markdown",
      "source": [
        "### 8. Data Splitting"
      ],
      "metadata": {
        "id": "BhH2vgX9EjGr"
      }
    },
    {
      "cell_type": "code",
      "source": [
        "# Split your data to train and test. Choose Splitting ratio wisely.\n",
        "\n",
        "# Split your data to train and test. Choose Splitting ratio wisely.\n",
        "X_train, X_test, y_train, y_test = train_test_split(X,y, test_size=0.3, random_state=42)\n",
        "print(X_train.shape)\n",
        "print(X_test.shape)"
      ],
      "metadata": {
        "id": "0CTyd2UwEyNM"
      },
      "execution_count": null,
      "outputs": []
    },
    {
      "cell_type": "code",
      "source": [
        "\n",
        "# Defining function for plotting y test  and y train values:\n",
        "def get_linear_graph(pred_value, y_test ):\n",
        "  plt.figure(figsize=(15,7))\n",
        "  plt.plot(pred_value[:100])\n",
        "  plt.plot(np.array(y_test[:100]))\n",
        "  plt.legend(['Predicted','Actual'])\n",
        "  plt.show()"
      ],
      "metadata": {
        "id": "KFkddGpUUUYA"
      },
      "execution_count": null,
      "outputs": []
    },
    {
      "cell_type": "markdown",
      "source": [
        "##### What data splitting ratio have you used and why?"
      ],
      "metadata": {
        "id": "qjKvONjwE8ra"
      }
    },
    {
      "cell_type": "markdown",
      "source": [
        "Answer Here."
      ],
      "metadata": {
        "id": "Y2lJ8cobFDb_"
      }
    },
    {
      "cell_type": "markdown",
      "source": [
        "## ***7. ML Model Implementation***"
      ],
      "metadata": {
        "id": "VfCC591jGiD4"
      }
    },
    {
      "cell_type": "markdown",
      "source": [
        "### Linear Regression\n"
      ],
      "metadata": {
        "id": "OB4l2ZhMeS1U"
      }
    },
    {
      "cell_type": "code",
      "source": [
        "# ML Model - 1 Implementation\n",
        "# Fitting onto Linear regression Model:\n",
        "\n",
        "reg= LinearRegression().fit(X_train, y_train)\n",
        "\n",
        "# Getting the X_train and X-test value:\n",
        "y_pred_train=reg.predict(X_train)\n",
        "y_pred_test=reg.predict(X_test)\n",
        "\n",
        "\n",
        "# Predict on the model\n",
        "\n",
        "reg.score(X_train, y_train)"
      ],
      "metadata": {
        "id": "7ebyywQieS1U"
      },
      "execution_count": null,
      "outputs": []
    },
    {
      "cell_type": "code",
      "source": [
        "# Visualizing evaluation Metric Score chart\n",
        "# Calculate MSE, MAE, R2 for training data:\n",
        "MSEl = mean_squared_error((y_train), (y_pred_train))\n",
        "MAEl= mean_absolute_error(y_train, y_pred_train)\n",
        "r2l = r2_score(y_train, y_pred_train)"
      ],
      "metadata": {
        "id": "ZygExnLOk_cX"
      },
      "execution_count": null,
      "outputs": []
    },
    {
      "cell_type": "code",
      "source": [
        "\n",
        "# Calculate MSE, MAE, R2 for testing data:\n",
        "MSEtestl = mean_squared_error((y_test), (y_pred_test))\n",
        "MAEtestl= mean_absolute_error(y_test, y_pred_test)\n",
        "r2testl = r2_score(y_test, y_pred_test)\n"
      ],
      "metadata": {
        "id": "JAGlEwBelBNs"
      },
      "execution_count": null,
      "outputs": []
    },
    {
      "cell_type": "code",
      "source": [
        "get_linear_graph(y_pred_test,y_pred_train)"
      ],
      "metadata": {
        "id": "kBxdwc0zUc1s"
      },
      "execution_count": null,
      "outputs": []
    },
    {
      "cell_type": "code",
      "source": [
        "\n",
        "# Printing Errors:\n",
        "\n",
        "print('Training Errors\\nMSE:', MSEl , '\\nMAE:' , MAEl , '\\nR2:',round((r2l),3))\n",
        "print('\\n\\nTesting Errors\\nMSE:', MSEtestl , '\\nMAE:' , MAEtestl , '\\nR2:',round((r2testl),3))"
      ],
      "metadata": {
        "id": "6sQ6I86-lDUf"
      },
      "execution_count": null,
      "outputs": []
    },
    {
      "cell_type": "code",
      "source": [
        "viz = ResidualsPlot(LinearRegression(),\n",
        "                    train_color=\"black\",\n",
        "                    test_color=\"tomato\",\n",
        "                    fig=plt.figure(figsize=(9,6))\n",
        "                    )\n",
        "\n",
        "viz.fit(X_train, y_train)\n",
        "viz.score(X_test, y_test)\n",
        "viz.show()\n"
      ],
      "metadata": {
        "id": "LFAeOLeblHJ4"
      },
      "execution_count": null,
      "outputs": []
    },
    {
      "cell_type": "code",
      "source": [
        "# storing the train set metrics value in a dataframe for later comparison:\n",
        "\n",
        "dict1={'Model':'Linear regression ',\n",
        "       'MAE':round((MAEl),3),\n",
        "       'MSE':round((MSEl),3),\n",
        "       'R2_score':round((r2l),3),\n",
        "       }\n",
        "training_df=pd.DataFrame(dict1,index=[1])"
      ],
      "metadata": {
        "id": "DBNUyT3HUj7u"
      },
      "execution_count": null,
      "outputs": []
    },
    {
      "cell_type": "code",
      "source": [
        "# storing the test set metrics value in a dataframe for later comparison:\n",
        "dict2={'Model':'Linear regression ',\n",
        "       'MAE':round((MAEtestl),3),\n",
        "       'MSE':round((MSEtestl),3),\n",
        "       'R2_score':round((r2testl),3)\n",
        "       }\n",
        "test_df=pd.DataFrame(dict2,index=[1])"
      ],
      "metadata": {
        "id": "ZFm5fu2HUmAB"
      },
      "execution_count": null,
      "outputs": []
    },
    {
      "cell_type": "markdown",
      "source": [
        "# Polynomial Regression"
      ],
      "metadata": {
        "id": "wajCrYRRUszF"
      }
    },
    {
      "cell_type": "code",
      "source": [
        "# Visualizing evaluation Metric Score chart\n",
        "from sklearn.preprocessing import PolynomialFeatures\n",
        "# Fitting training data onto Polynomial regression Model :\n",
        "poly_reg = PolynomialFeatures(degree = 2)\n",
        "\n",
        "X_poly = poly_reg.fit_transform(X_train)\n",
        "\n",
        "X_poly_test = poly_reg.fit_transform(X_test)"
      ],
      "metadata": {
        "id": "I2CP-kPbU3GO"
      },
      "execution_count": null,
      "outputs": []
    },
    {
      "cell_type": "code",
      "source": [
        "# Fitting training data onto Polynomial regression Model :\n",
        "poly_reg = PolynomialFeatures(degree = 2)\n",
        "X_poly = poly_reg.fit_transform(X_train)\n",
        "X_poly_test = poly_reg.fit_transform(X_test)"
      ],
      "metadata": {
        "id": "D2y7lSMaU3Bc"
      },
      "execution_count": null,
      "outputs": []
    },
    {
      "cell_type": "code",
      "source": [
        "# Fitting training data onto Polynomial regression Model:\n",
        "poly = LinearRegression().fit(X_poly, y_train)"
      ],
      "metadata": {
        "id": "GnzNaBXpU20F"
      },
      "execution_count": null,
      "outputs": []
    },
    {
      "cell_type": "code",
      "source": [
        " # Getting the y_train and y-test value:\n",
        "y_pred_poly_train = poly.predict(X_poly)\n",
        "y_pred_poly_test= poly.predict(X_poly_test)"
      ],
      "metadata": {
        "id": "Oj2zH4LLU2w6"
      },
      "execution_count": null,
      "outputs": []
    },
    {
      "cell_type": "code",
      "source": [
        "get_linear_graph(y_pred_poly_test , y_test )\n"
      ],
      "metadata": {
        "id": "Yn8U7qHKU2uR"
      },
      "execution_count": null,
      "outputs": []
    },
    {
      "cell_type": "code",
      "source": [
        "\n",
        "# Calculate MSE, MAE, R2 for training data:\n",
        "MSEp = mean_squared_error((y_train), (y_pred_poly_train))\n",
        "MAEp= mean_absolute_error(y_train, y_pred_poly_train)\n",
        "r2p = r2_score(y_train, y_pred_poly_train)"
      ],
      "metadata": {
        "id": "lybGjckiU2rP"
      },
      "execution_count": null,
      "outputs": []
    },
    {
      "cell_type": "code",
      "source": [
        "# Calculate MSE, MAE, R2 for testing data:\n",
        "MSEtestp = mean_squared_error((y_test), (y_pred_poly_test))\n",
        "MAEtestp= mean_absolute_error(y_test, y_pred_poly_test)\n",
        "r2testp = r2_score(y_test, y_pred_poly_test)\n"
      ],
      "metadata": {
        "id": "uD59tVzoVFKM"
      },
      "execution_count": null,
      "outputs": []
    },
    {
      "cell_type": "code",
      "source": [
        "# Printing Errors:\n",
        "print('Training Errors\\nMSE:', MSEp , '\\nMAE:' , MAEp , '\\nR2:',round((r2p),2))\n",
        "print('\\n\\nTesting Errors\\nMSE:', MSEtestp , '\\nMAE:' , MAEtestp , '\\nR2:',round((r2testp),2))\n"
      ],
      "metadata": {
        "id": "-F9mIK5kVFHz"
      },
      "execution_count": null,
      "outputs": []
    },
    {
      "cell_type": "code",
      "source": [
        "!pip install --upgrade pandas"
      ],
      "metadata": {
        "id": "Z4q1UUadVkBu"
      },
      "execution_count": null,
      "outputs": []
    },
    {
      "cell_type": "code",
      "source": [
        "# storing the train set metrics value in a dataframe for later comparison:\n",
        "dict1={'Model':'Polynomial regression ',\n",
        "       'MAE':round((MAEp),3),\n",
        "       'MSE':round((MSEp),3),\n",
        "       'R2_score':round((r2p),3)\n",
        "       }\n",
        "training_df = pd.concat([training_df, pd.DataFrame([dict1])], ignore_index=True) # Use pd.concat to add a new row\n",
        "\n",
        "# storing the test set metrics value in a dataframe for later comparison:\n",
        "\n",
        "dict2={'Model':'Polynomial regression ',\n",
        "       'MAE':round((MAEtestp),3),\n",
        "       'MSE':round((MSEtestp),3),\n",
        "       'R2_score':round((r2testp),3)\n",
        "       }\n",
        "test_df = pd.concat([test_df, pd.DataFrame([dict2])], ignore_index=True) # Use pd.concat to add a new row\n"
      ],
      "metadata": {
        "id": "V4EmPo6EVFE2"
      },
      "execution_count": null,
      "outputs": []
    },
    {
      "cell_type": "markdown",
      "source": [
        "### Decision Tree"
      ],
      "metadata": {
        "id": "dJ2tPlVmpsJ0"
      }
    },
    {
      "cell_type": "code",
      "source": [
        "\n",
        "# ML Model - 3 Implementation\n",
        "# Creating object wth Decision tree regressor with critera of mean squared error, maximum depth being 10, maximum leaf noodes being 120:\n",
        "from sklearn.tree import DecisionTreeRegressor\n",
        "decision_regressor = DecisionTreeRegressor(criterion='squared_error', max_depth=10, max_leaf_nodes=120)\n",
        "decision_regressor.fit(X_train, y_train)"
      ],
      "metadata": {
        "id": "aEcTDJfYV3N3"
      },
      "execution_count": null,
      "outputs": []
    },
    {
      "cell_type": "code",
      "source": [
        "\n",
        "# Getting the y_train and y-test value:\n",
        "y_pred_train_d = decision_regressor.predict(X_train)\n",
        "y_pred_test_d = decision_regressor.predict(X_test)"
      ],
      "metadata": {
        "id": "CzfFrdabV5OI"
      },
      "execution_count": null,
      "outputs": []
    },
    {
      "cell_type": "code",
      "source": [
        "get_linear_graph(y_pred_test_d , y_test )"
      ],
      "metadata": {
        "id": "Y-vpUGjtV5KZ"
      },
      "execution_count": null,
      "outputs": []
    },
    {
      "cell_type": "markdown",
      "source": [
        "#### 1. Explain the ML Model used and it's performance using Evaluation metric Score Chart."
      ],
      "metadata": {
        "id": "JWYfwnehpsJ1"
      }
    },
    {
      "cell_type": "code",
      "source": [
        "\n",
        "# Calculate MSE, MAE, R2 for training data:\n",
        "MSEdt = mean_squared_error((y_train), (y_pred_train_d))\n",
        "MAEdt = mean_absolute_error(y_train, y_pred_train_d)\n",
        "r2dt = r2_score(y_train, y_pred_train_d)"
      ],
      "metadata": {
        "id": "yEl-hgQWpsJ1"
      },
      "execution_count": null,
      "outputs": []
    },
    {
      "cell_type": "code",
      "source": [
        "# Calculate MSE, MAE, R2 for testing data:\n",
        "MSEtestdt = mean_squared_error((y_test), (y_pred_test_d))\n",
        "MAEtestdt = mean_absolute_error(y_test, y_pred_test_d)\n",
        "r2testdt = r2_score(y_test, y_pred_test_d)"
      ],
      "metadata": {
        "id": "FWPxpc_HWBxv"
      },
      "execution_count": null,
      "outputs": []
    },
    {
      "cell_type": "code",
      "source": [
        "# Printing Errors:\n",
        "print('Training Errors\\nMSE:', MSEdt , '\\nMAE:' , MAEdt , '\\nR2:',round((r2dt),3))\n",
        "print('\\n\\nTesting Errors\\nMSE:', MSEtestdt , '\\nMAE:' , MAEtestdt , '\\nR2:',round((r2testdt),3))\n"
      ],
      "metadata": {
        "id": "1jaxsPkYWDiC"
      },
      "execution_count": null,
      "outputs": []
    },
    {
      "cell_type": "code",
      "source": [
        "viz = ResidualsPlot(DecisionTreeRegressor(criterion='squared_error', max_depth=10, max_leaf_nodes=120),\n",
        "                    train_color=\"green\",\n",
        "                    test_color=\"tomato\",\n",
        "                    fig=plt.figure(figsize=(9,6))\n",
        "                    )\n",
        "\n",
        "viz.fit(X_train, y_train)\n",
        "viz.score(X_test, y_test)\n",
        "viz.show()"
      ],
      "metadata": {
        "id": "n5jJjHqvWIJC"
      },
      "execution_count": null,
      "outputs": []
    },
    {
      "cell_type": "code",
      "source": [
        "viz = PredictionError(DecisionTreeRegressor(criterion='squared_error', max_depth=10, max_leaf_nodes=120),\n",
        "                      fig=plt.figure(figsize=(6,6))\n",
        "                      )\n",
        "\n",
        "viz.fit(X_train, y_train)\n",
        "viz.score(X_test, y_test)\n",
        "viz.show()"
      ],
      "metadata": {
        "id": "xxxGqWDeWLvw"
      },
      "execution_count": null,
      "outputs": []
    },
    {
      "cell_type": "code",
      "source": [
        "# storing the train set metrics value in a dataframe for later comparison:\n",
        "\n",
        "dict1={'Model':'Decision Tree Regression ',\n",
        "       'MAE':round((MAEdt),3),\n",
        "       'MSE':round((MSEdt),3),\n",
        "       'R2_score':round((r2dt),3),\n",
        "}\n",
        "training_df = pd.concat([training_df, pd.DataFrame([dict1])], ignore_index=True) # Use pd.concat to add a new row\n",
        "\n",
        "# storing the test set metrics value in a dataframe for later comparison\n",
        "dict2 = {'Model':'Decision Tree Regression ',\n",
        "       'MAE':round((MAEtestdt),3),\n",
        "       'MSE':round((MSEtestdt),3),\n",
        "       'R2_score':round((r2testdt),3),\n",
        "}\n",
        "test_df = pd.concat([test_df, pd.DataFrame([dict2])], ignore_index=True) # Use pd.concat to add a new row\n"
      ],
      "metadata": {
        "id": "3mSMnf0nWPQg"
      },
      "execution_count": null,
      "outputs": []
    },
    {
      "cell_type": "code",
      "source": [
        "# defining function for feature importance:\n",
        "def get_feat_imp(model):\n",
        "  feat_importances = pd.Series(model.feature_importances_, index=X.columns)\n",
        "  plt.figure(figsize=(15,8))\n",
        "  plt.title('Feature Importance')\n",
        "  feat_importances.nlargest(10).plot(kind='bar', color= 'red',path_effects=[path_effects.SimplePatchShadow(),path_effects.Normal()])\n",
        "  plt.show()\n",
        "get_feat_imp(decision_regressor)"
      ],
      "metadata": {
        "id": "ZLe8bTasWZmr"
      },
      "execution_count": null,
      "outputs": []
    },
    {
      "cell_type": "code",
      "source": [],
      "metadata": {
        "id": "WqxCUv5WWoEO"
      },
      "execution_count": null,
      "outputs": []
    },
    {
      "cell_type": "markdown",
      "source": [
        "#  Random Forest\n"
      ],
      "metadata": {
        "id": "QqPGeDdOWt_m"
      }
    },
    {
      "cell_type": "code",
      "source": [
        "\n",
        "Rf = RandomForestRegressor(n_estimators=100, random_state=0)\n",
        "Rf.fit(X_train, y_train)"
      ],
      "metadata": {
        "id": "n_FoejygWxAu"
      },
      "execution_count": null,
      "outputs": []
    },
    {
      "cell_type": "code",
      "source": [
        "# Getting the y_train and y-test value:\n",
        "y_pred_train_Rf = Rf.predict(X_train)\n",
        "y_pred_test_Rf = Rf.predict(X_test)"
      ],
      "metadata": {
        "id": "5in6ds06Ww8_"
      },
      "execution_count": null,
      "outputs": []
    },
    {
      "cell_type": "code",
      "source": [
        "\n",
        "get_linear_graph(y_pred_test_Rf , y_test )"
      ],
      "metadata": {
        "id": "edGmaj4MWw5A"
      },
      "execution_count": null,
      "outputs": []
    },
    {
      "cell_type": "code",
      "source": [
        "\n",
        "# Calculate MSE, MAE, R2 for training data:\n",
        "MSEdt = mean_squared_error((y_train), (y_pred_train_Rf))\n",
        "MAEdt = mean_absolute_error(y_train, y_pred_train_Rf)\n",
        "r2dt = r2_score(y_train, y_pred_train_Rf)"
      ],
      "metadata": {
        "id": "EBbBl6-iWw2n"
      },
      "execution_count": null,
      "outputs": []
    },
    {
      "cell_type": "code",
      "source": [
        "# Calculate MSE, MAE, R2 for testing data:\n",
        "MSEtestdt = mean_squared_error((y_test), (y_pred_test_Rf))\n",
        "MAEtestdt = mean_absolute_error(y_test, y_pred_test_Rf)\n",
        "r2testdt = r2_score(y_test, y_pred_test_Rf)\n"
      ],
      "metadata": {
        "id": "vP4lvZYrWwzz"
      },
      "execution_count": null,
      "outputs": []
    },
    {
      "cell_type": "code",
      "source": [
        "# Printing Errors:\n",
        "print('Training Errors\\nMSE:', MSEdt , '\\nMAE:' , MAEdt , '\\nR2:',round((r2dt),3))\n",
        "print('\\n\\nTesting Errors\\nMSE:', MSEtestdt , '\\nMAE:' , MAEtestdt , '\\nR2:',round((r2testdt),3))\n"
      ],
      "metadata": {
        "id": "2Z6jCXaDXBoJ"
      },
      "execution_count": null,
      "outputs": []
    },
    {
      "cell_type": "code",
      "source": [
        "\n",
        "# storing the train set metrics value in a dataframe for later comparison:\n",
        "\n",
        "dict1={'Model':'RandomForestRegressor with GridSearchCv ',\n",
        "       'MAE':round((MAEdt),3),\n",
        "       'MSE':round((MSEdt),3),\n",
        "       'R2_score':round((r2dt),3),\n",
        "}\n",
        "training_df = pd.concat([training_df, pd.DataFrame([dict1])], ignore_index=True) # Use pd.concat to add a new row\n",
        "\n",
        "# storing the test set metrics value in a dataframe for later comparison\n",
        "dict2 = {'Model':'RandomForestRegressor with GridSearchCv ',\n",
        "       'MAE':round((MAEtestdt),3),\n",
        "       'MSE':round((MSEtestdt),3),\n",
        "       'R2_score':round((r2testdt),3),\n",
        "}\n",
        "test_df = pd.concat([test_df, pd.DataFrame([dict2])], ignore_index=True) # Use pd.concat to add a new row\n"
      ],
      "metadata": {
        "id": "ROA4DT6hXBjC"
      },
      "execution_count": null,
      "outputs": []
    },
    {
      "cell_type": "code",
      "source": [
        "\n",
        "get_feat_imp(Rf)"
      ],
      "metadata": {
        "id": "IPdMsTTFXBf0"
      },
      "execution_count": null,
      "outputs": []
    },
    {
      "cell_type": "markdown",
      "source": [
        "# Cross- Validation & Hyperparameter Tuning - Random Forest\n"
      ],
      "metadata": {
        "id": "UPxIlXsxXtzD"
      }
    },
    {
      "cell_type": "code",
      "source": [
        "from sklearn.model_selection import GridSearchCV, RandomizedSearchCV"
      ],
      "metadata": {
        "id": "Hjt9pWdjZKB0"
      },
      "execution_count": null,
      "outputs": []
    },
    {
      "cell_type": "code",
      "source": [
        "parameters = {\n",
        "    'n_estimators': [int(x) for x in np.linspace(start=10, stop=20, num=5)],\n",
        "    'max_depth': [10, 15, 20],\n",
        "    'min_samples_split': [2, 4],\n",
        "    'min_samples_leaf': [1, 2],\n",
        "    'bootstrap': [True, False]\n",
        "}\n",
        "\n",
        "# Using RandomizedSearchCV with a limited number of iterations\n",
        "random_search = RandomizedSearchCV(\n",
        "    estimator=RandomForestRegressor(),\n",
        "    param_distributions=parameters,\n",
        "    n_iter=10,  # Number of parameter settings to sample\n",
        "    scoring='r2',\n",
        "    cv=3,  # Reducing the number of cross-validation folds\n",
        "    n_jobs=-1,  # Use all available cores\n",
        "    random_state=42\n",
        ")\n",
        "\n",
        "random_search.fit(X_train, y_train)"
      ],
      "metadata": {
        "id": "aHJzl6drZFX3"
      },
      "execution_count": null,
      "outputs": []
    },
    {
      "cell_type": "code",
      "source": [
        "\n",
        "# Getting the y_train and y-test value:\n",
        "y_pred_train_Rf = random_search.predict(X_train)\n",
        "y_pred_test_Rf = random_search.predict(X_test)"
      ],
      "metadata": {
        "id": "A9ejJ2ejXyDp"
      },
      "execution_count": null,
      "outputs": []
    },
    {
      "cell_type": "code",
      "source": [
        "\n",
        "get_linear_graph(y_pred_test_Rf , y_test )"
      ],
      "metadata": {
        "id": "iicel8nzXxyI"
      },
      "execution_count": null,
      "outputs": []
    },
    {
      "cell_type": "code",
      "source": [
        "\n",
        "# Calculate MSE, MAE, R2 for training data:\n",
        "MSEdt = mean_squared_error((y_train), (y_pred_train_Rf))\n",
        "MAEdt = mean_absolute_error(y_train, y_pred_train_Rf)\n",
        "r2dt = r2_score(y_train, y_pred_train_Rf)"
      ],
      "metadata": {
        "id": "Hj6hFB9fXxvQ"
      },
      "execution_count": null,
      "outputs": []
    },
    {
      "cell_type": "code",
      "source": [
        "# Calculate MSE, MAE, R2 for testing data:\n",
        "MSEtestdt = mean_squared_error((y_test), (y_pred_test_Rf))\n",
        "MAEtestdt = mean_absolute_error(y_test, y_pred_test_Rf)\n",
        "r2testdt = r2_score(y_test, y_pred_test_Rf)"
      ],
      "metadata": {
        "id": "8nOldlcGXxrt"
      },
      "execution_count": null,
      "outputs": []
    },
    {
      "cell_type": "code",
      "source": [
        "# Printing Errors:\n",
        "print('Training Errors\\nMSE:', MSEdt , '\\nMAE:' , MAEdt , '\\nR2:',round((r2dt),3))\n",
        "print('\\n\\nTesting Errors\\nMSE:', MSEtestdt , '\\nMAE:' , MAEtestdt , '\\nR2:',round((r2testdt),3))\n"
      ],
      "metadata": {
        "id": "jnwMRxdLX8ZO"
      },
      "execution_count": null,
      "outputs": []
    },
    {
      "cell_type": "code",
      "source": [
        "\n",
        "# storing the train set metrics value in a dataframe for later comparison:\n",
        "\n",
        "dict1={'Model':'RandomForestRegressor ',\n",
        "       'MAE':round((MAEdt),3),\n",
        "       'MSE':round((MSEdt),3),\n",
        "       'R2_score':round((r2dt),3),\n",
        "}\n",
        "training_df = pd.concat([training_df, pd.DataFrame([dict1])], ignore_index=True) # Use pd.concat to add a new row\n",
        "# storing the test set metrics value in a dataframe for later comparison\n",
        "dict2 = {'Model':'RandomForestRegressor ',\n",
        "       'MAE':round((MAEtestdt),3),\n",
        "       'MSE':round((MSEtestdt),3),\n",
        "       'R2_score':round((r2testdt),3),\n",
        "}\n",
        "test_df = pd.concat([test_df, pd.DataFrame([dict2])], ignore_index=True) # Use pd.concat to add a new row\n"
      ],
      "metadata": {
        "id": "pT8alWG8X_XO"
      },
      "execution_count": null,
      "outputs": []
    },
    {
      "cell_type": "code",
      "source": [
        "\n",
        "get_feat_imp(Rf)"
      ],
      "metadata": {
        "id": "scSbMDxoX8Vm"
      },
      "execution_count": null,
      "outputs": []
    },
    {
      "cell_type": "markdown",
      "source": [
        "# Hyperparameter Tuning - GradientBoostingRegressor"
      ],
      "metadata": {
        "id": "J11_coB3ZgUL"
      }
    },
    {
      "cell_type": "code",
      "source": [
        "from sklearn.ensemble import GradientBoostingRegressor\n",
        "from sklearn.model_selection import RandomizedSearchCV\n",
        "\n",
        "# Parameter grid\n",
        "param_dict = {\n",
        "    'n_estimators': [50, 80, 100],\n",
        "    'max_depth': [4, 6, 8, 10],\n",
        "    'min_samples_split': [50, 80, 100],\n",
        "    'min_samples_leaf': [40, 50]\n",
        "}\n",
        "\n",
        "# Using RandomizedSearchCV with a limited number of iterations\n",
        "random_search_gb = RandomizedSearchCV(\n",
        "    estimator=GradientBoostingRegressor(),\n",
        "    param_distributions=param_dict,\n",
        "    n_iter=10,  # Number of parameter settings to sample\n",
        "    cv=3,  # Reducing the number of cross-validation folds\n",
        "    n_jobs=-1,  # Use all available cores\n",
        "    verbose=0,\n",
        "    random_state=42,\n",
        "    scoring='r2'\n",
        ")\n",
        "\n",
        "random_search_gb.fit(X_train, y_train)"
      ],
      "metadata": {
        "id": "7nZgOCaTZis9"
      },
      "execution_count": null,
      "outputs": []
    },
    {
      "cell_type": "code",
      "source": [
        "\n",
        "# Putting Best possible paramteres into model:\n",
        "gb_optimal_model = random_search_gb.best_estimator_"
      ],
      "metadata": {
        "id": "BDqPKDAVZipw"
      },
      "execution_count": null,
      "outputs": []
    },
    {
      "cell_type": "code",
      "source": [
        "# Making predictions on train and test data:\n",
        "y_pred_traingbg = gb_optimal_model.predict(X_train)\n",
        "y_predgbg= gb_optimal_model.predict(X_test)\n"
      ],
      "metadata": {
        "id": "7K8v18dXZiml"
      },
      "execution_count": null,
      "outputs": []
    },
    {
      "cell_type": "code",
      "source": [
        "\n",
        "get_linear_graph(y_predgbg , y_test)"
      ],
      "metadata": {
        "id": "6Ybep1eRZiil"
      },
      "execution_count": null,
      "outputs": []
    },
    {
      "cell_type": "code",
      "source": [
        "\n",
        "# Calculate MSE, MAE, R2 for training data :\n",
        "MSEGBG = mean_squared_error((y_train), (y_pred_traingbg))\n",
        "MAEGBG = mean_absolute_error(y_train, y_pred_traingbg)\n",
        "r2GBG = r2_score(y_train, y_pred_traingbg)"
      ],
      "metadata": {
        "id": "h70QqgTvZ6nG"
      },
      "execution_count": null,
      "outputs": []
    },
    {
      "cell_type": "code",
      "source": [
        "# Calculate MSE, MAE, R2 for testing data :\n",
        "MSEtestGBG = mean_squared_error((y_test), (y_predgbg))\n",
        "MAEtestGBG = mean_absolute_error(y_test, y_predgbg)\n",
        "r2testGBG = r2_score(y_test, y_predgbg)\n"
      ],
      "metadata": {
        "id": "b0yD5I6CZ8Gx"
      },
      "execution_count": null,
      "outputs": []
    },
    {
      "cell_type": "code",
      "source": [
        "# Printing Errors :\n",
        "print('Training Errors\\nMSE:', MSEGBG , '\\nMAE:' , MAEGBG , '\\nR2:',round((r2GBG),2))\n",
        "print('\\n\\nTesting Errors\\nMSE:', MSEtestGBG , '\\nMAE:' , MAEtestGBG , '\\nR2:',round((r2testGBG),2))\n"
      ],
      "metadata": {
        "id": "vV98SHFYZ-I9"
      },
      "execution_count": null,
      "outputs": []
    },
    {
      "cell_type": "code",
      "source": [
        "\n",
        "# storing the train set metrics value in a dataframe for later comparison:\n",
        "dict1={'Model':'Gradient Boost with GridSearch ',\n",
        "       'MAE':round((MAEGBG),3),\n",
        "       'MSE':round((MSEGBG),3),\n",
        "       'R2_score':round((r2GBG),3)}\n",
        "\n",
        "training_df = pd.concat([training_df, pd.DataFrame([dict1])], ignore_index=True) # Use pd.concat to add a new row\n"
      ],
      "metadata": {
        "id": "otLTIRHVaHOo"
      },
      "execution_count": null,
      "outputs": []
    },
    {
      "cell_type": "code",
      "source": [
        "# storing the train set metrics value in a dataframe for later comparison:\n",
        "\n",
        "dict2={'Model':'Gradient Boost with GridSearch ',\n",
        "       'MAE':round((MAEtestGBG),3),\n",
        "       'MSE':round((MSEtestGBG),3),\n",
        "       'R2_score':round((r2testGBG),3)}\n",
        "\n",
        "test_df = pd.concat([test_df, pd.DataFrame([dict2])], ignore_index=True) # Use pd.concat to add a new row\n"
      ],
      "metadata": {
        "id": "1a-1UAMTaI_p"
      },
      "execution_count": null,
      "outputs": []
    },
    {
      "cell_type": "code",
      "source": [
        "\n",
        "get_feat_imp(gb_optimal_model)"
      ],
      "metadata": {
        "id": "h4Q8ytp1aHK8"
      },
      "execution_count": null,
      "outputs": []
    },
    {
      "cell_type": "markdown",
      "source": [
        "# Hyper paramter tuning for eXtremeGradientBoosting(XGBoost)"
      ],
      "metadata": {
        "id": "ZrIcwxRxaYaT"
      }
    },
    {
      "cell_type": "code",
      "source": [
        "\n",
        "parameter = {'n_estimators': [200,400],     # number of trees in the ensemble\n",
        "             'max_depth': [7,8],             # maximum number of levels allowed in each tree.\n",
        "             'min_samples_split': [3,5],     # minimum number of samples necessary in a node to cause node splitting.\n",
        "             'min_samples_leaf': [3,5]}      # minimum number of samples which can be stored in a tree leaf.\n",
        "\n",
        "\n",
        "# Initialize the RandomForestRegressor model\n",
        "XGB = XGBRegressor()\n",
        "\n",
        "# Use GridSearchCV to perform a grid search over the parameter grid\n",
        "grid_search = GridSearchCV(XGB, param_grid=parameter, cv=5, scoring='r2')\n",
        "\n",
        "# Fit the model to the training data\n",
        "grid_search.fit(X_train,y_train)"
      ],
      "metadata": {
        "id": "FFrSXAtrpx6M"
      },
      "execution_count": null,
      "outputs": []
    },
    {
      "cell_type": "code",
      "source": [
        "\n",
        "# Putting Best possible paramteres into model:\n",
        "gb_optimal_modelXGB = grid_search.best_estimator_"
      ],
      "metadata": {
        "id": "Zm5f_r8UaeaU"
      },
      "execution_count": null,
      "outputs": []
    },
    {
      "cell_type": "code",
      "source": [
        "\n",
        "# Making predictions on train and test data:\n",
        "y_pred_traingexgb = gb_optimal_modelXGB.predict(X_train)\n",
        "y_predexgb= gb_optimal_modelXGB.predict(X_test)"
      ],
      "metadata": {
        "id": "xqKTpaAmaeXc"
      },
      "execution_count": null,
      "outputs": []
    },
    {
      "cell_type": "code",
      "source": [
        "\n",
        "get_linear_graph(y_predexgb , y_test )"
      ],
      "metadata": {
        "id": "0gEyHQxcaeUT"
      },
      "execution_count": null,
      "outputs": []
    },
    {
      "cell_type": "code",
      "source": [
        "# Calculate MSE, MAE, R2 for training data :\n",
        "MSEGBG = mean_squared_error((y_train), (y_pred_traingexgb))\n",
        "MAEGBG = mean_absolute_error(y_train, y_pred_traingexgb)\n",
        "r2GBG = r2_score(y_train, y_pred_traingexgb)"
      ],
      "metadata": {
        "id": "gs2NXJokaeRm"
      },
      "execution_count": null,
      "outputs": []
    },
    {
      "cell_type": "code",
      "source": [
        "\n",
        "# Calculate MSE, MAE, R2 for testing data :\n",
        "MSEtestGBG = mean_squared_error((y_test), (y_predexgb))\n",
        "MAEtestGBG = mean_absolute_error(y_test, y_predexgb)\n",
        "r2testGBG = r2_score(y_test, y_predexgb)"
      ],
      "metadata": {
        "id": "SGwdS_5oaeN7"
      },
      "execution_count": null,
      "outputs": []
    },
    {
      "cell_type": "code",
      "source": [
        "# Printing Errors :\n",
        "print('Training Errors\\nMSE:', MSEGBG , '\\nMAE:' , MAEGBG , '\\nR2:',round((r2GBG),2))\n",
        "print('\\n\\nTesting Errors\\nMSE:', MSEtestGBG , '\\nMAE:' , MAEtestGBG , '\\nR2:',round((r2testGBG),2))\n"
      ],
      "metadata": {
        "id": "NbfSdI35angg"
      },
      "execution_count": null,
      "outputs": []
    },
    {
      "cell_type": "code",
      "source": [
        "# storing the train set metrics value in a dataframe for later comparison:\n",
        "dict1={'Model':' XGBoost with GridSearch ',\n",
        "       'MAE':round((MAEGBG),3),\n",
        "       'MSE':round((MSEGBG),3),\n",
        "       'R2_score':round((r2GBG),3)}\n",
        "\n",
        "training_df = pd.concat([training_df, pd.DataFrame([dict1])], ignore_index=True) # Use pd.concat to add a new row\n"
      ],
      "metadata": {
        "id": "VIXmQ0okarEm"
      },
      "execution_count": null,
      "outputs": []
    },
    {
      "cell_type": "code",
      "source": [
        "\n",
        "# storing the train set metrics value in a dataframe for later comparison:\n",
        "\n",
        "dict2={'Model':'XGBoost with GridSearch ',\n",
        "       'MAE':round((MAEtestGBG),3),\n",
        "       'MSE':round((MSEtestGBG),3),\n",
        "       'R2_score':round((r2testGBG),3)}\n",
        "\n",
        "test_df = pd.concat([test_df, pd.DataFrame([dict2])], ignore_index=True) # Use pd.concat to add a new row\n"
      ],
      "metadata": {
        "id": "Sstp-2kpaq_b"
      },
      "execution_count": null,
      "outputs": []
    },
    {
      "cell_type": "code",
      "source": [
        "\n",
        "get_feat_imp(gb_optimal_modelXGB)"
      ],
      "metadata": {
        "id": "YqiWlUaBat8z"
      },
      "execution_count": null,
      "outputs": []
    },
    {
      "cell_type": "markdown",
      "source": [
        "# LightGBM\n"
      ],
      "metadata": {
        "id": "GL-exM65bykJ"
      }
    },
    {
      "cell_type": "code",
      "source": [
        "\n",
        "param_grid = {'n_estimators': [600,800],     # number of trees in the ensemble\n",
        "             'max_depth': [8,10],            # maximum number of levels allowed in each tree.\n",
        "             'min_samples_split': [3,5],     # minimum number of samples necessary in a node to cause node splitting.\n",
        "             'min_samples_leaf': [2,3]}      # minimum number of samples which can be stored in a tree leaf.\n",
        "\n",
        "\n",
        "# Initialize the RandomForestRegressor model\n",
        "lgb = LGBMRegressor()\n",
        "\n",
        "# Use GridSearchCV to perform a grid search over the parameter grid\n",
        "grid_search = GridSearchCV(lgb, param_grid=param_grid, cv=5, scoring='r2')\n",
        "\n",
        "# Fit the model to the training data\n",
        "grid_search.fit(X_train,y_train)"
      ],
      "metadata": {
        "id": "PLeYFrBdb2FN"
      },
      "execution_count": null,
      "outputs": []
    },
    {
      "cell_type": "code",
      "source": [
        "\n",
        "# Putting Best possible paramteres into model:\n",
        "gb_optimal_modelLGB = grid_search.best_estimator_\n"
      ],
      "metadata": {
        "id": "GkPMVBlub1-7"
      },
      "execution_count": null,
      "outputs": []
    },
    {
      "cell_type": "code",
      "source": [
        "\n",
        "# Making predictions on train and test data:\n",
        "y_pred_traingLGB = gb_optimal_modelLGB.predict(X_train)\n",
        "y_predLGB= gb_optimal_modelLGB.predict(X_test)"
      ],
      "metadata": {
        "id": "89xoc_Bmb1on"
      },
      "execution_count": null,
      "outputs": []
    },
    {
      "cell_type": "code",
      "source": [
        "get_linear_graph(y_predLGB , y_test)"
      ],
      "metadata": {
        "id": "23QHXK0Bb1li"
      },
      "execution_count": null,
      "outputs": []
    },
    {
      "cell_type": "code",
      "source": [
        "\n",
        "# Calculate MSE, MAE, R2 for training data :\n",
        "MSEGBG = mean_squared_error((y_train), (y_pred_traingLGB))\n",
        "MAEGBG = mean_absolute_error(y_train, y_pred_traingLGB)\n",
        "r2GBG = r2_score(y_train, y_pred_traingLGB)\n"
      ],
      "metadata": {
        "id": "PQaA4clib1iO"
      },
      "execution_count": null,
      "outputs": []
    },
    {
      "cell_type": "code",
      "source": [
        "# Calculate MSE, MAE, R2 for testing data :\n",
        "MSEtestGBG = mean_squared_error((y_test), (y_predLGB))\n",
        "MAEtestGBG = mean_absolute_error(y_test, y_predLGB)\n",
        "r2testGBG = r2_score(y_test, y_predLGB)"
      ],
      "metadata": {
        "id": "x45D3rspcDeg"
      },
      "execution_count": null,
      "outputs": []
    },
    {
      "cell_type": "code",
      "source": [
        "# Printing Errors :\n",
        "print('Training Errors\\nMSE:', MSEGBG , '\\nMAE:' , MAEGBG , '\\nR2:',round((r2GBG),2))\n",
        "print('\\n\\nTesting Errors\\nMSE:', MSEtestGBG , '\\nMAE:' , MAEtestGBG , '\\nR2:',round((r2testGBG),2))\n"
      ],
      "metadata": {
        "id": "8k7S0rqxcIdd"
      },
      "execution_count": null,
      "outputs": []
    },
    {
      "cell_type": "code",
      "source": [
        "# storing the train set metrics value in a dataframe for later comparison:\n",
        "dict1={'Model':' LightGBM with GridSearch ',\n",
        "       'MAE':round((MAEGBG),3),\n",
        "       'MSE':round((MSEGBG),3),\n",
        "       'R2_score':round((r2GBG),3)}\n",
        "\n",
        "training_df = pd.concat([training_df, pd.DataFrame([dict1])], ignore_index=True) # Use pd.concat to add a new row\n"
      ],
      "metadata": {
        "id": "HHc_cwzVcLV-"
      },
      "execution_count": null,
      "outputs": []
    },
    {
      "cell_type": "code",
      "source": [
        "\n",
        "# storing the train set metrics value in a dataframe for later comparison:\n",
        "\n",
        "dict2={'Model':'LightGBM with GridSearch ',\n",
        "       'MAE':round((MAEtestGBG),3),\n",
        "       'MSE':round((MSEtestGBG),3),\n",
        "       'R2_score':round((r2testGBG),3)}\n",
        "\n",
        "test_df = pd.concat([test_df, pd.DataFrame([dict2])], ignore_index=True) # Use pd.concat to add a new row\n"
      ],
      "metadata": {
        "id": "Sf35RDtBcLRc"
      },
      "execution_count": null,
      "outputs": []
    },
    {
      "cell_type": "code",
      "source": [
        "\n",
        "get_feat_imp(gb_optimal_modelLGB)"
      ],
      "metadata": {
        "id": "usXGcZW2cYDM"
      },
      "execution_count": null,
      "outputs": []
    },
    {
      "cell_type": "markdown",
      "source": [
        "### 2. Which ML model did you choose from the above created models as your final prediction model and why?"
      ],
      "metadata": {
        "id": "cBFFvTBNJzUa"
      }
    },
    {
      "cell_type": "code",
      "source": [
        "# Combining Train and Test erros in a single dataframe:\n",
        "matrix = pd.concat([training_df,test_df],keys=['Training set','Test set'], axis =1)\n"
      ],
      "metadata": {
        "id": "zvz1SkoQcgHr"
      },
      "execution_count": null,
      "outputs": []
    },
    {
      "cell_type": "code",
      "source": [
        "\n",
        "matrix"
      ],
      "metadata": {
        "id": "D5CrTRaUcgED"
      },
      "execution_count": null,
      "outputs": []
    },
    {
      "cell_type": "code",
      "source": [
        "\n",
        "temp= test_df[['Model','R2_score']]\n",
        "temp= temp.sort_values(by='R2_score', ascending=True)"
      ],
      "metadata": {
        "id": "tqqlqqfScv6_"
      },
      "execution_count": null,
      "outputs": []
    },
    {
      "cell_type": "code",
      "source": [
        "ax=temp.plot(x=\"Model\", y=[\"R2_score\"],color ='brown' ,kind=\"bar\", figsize=(22, 8),path_effects=[path_effects.SimplePatchShadow(),path_effects.Normal()])\n",
        "for bar in ax.patches:\n",
        "    ax.annotate(format(bar.get_height(), '.2f'),\n",
        "                   (bar.get_x() + bar.get_width() / 2,\n",
        "                    bar.get_height()), ha='center', va='center',\n",
        "                   size=10, xytext=(0, 8),\n",
        "                   textcoords='offset points')\n",
        "plt.title('Best performing model')"
      ],
      "metadata": {
        "id": "STsx7Yy4cxqO"
      },
      "execution_count": null,
      "outputs": []
    },
    {
      "cell_type": "markdown",
      "source": [
        "Answer Here."
      ],
      "metadata": {
        "id": "6ksF5Q1LKTVm"
      }
    },
    {
      "cell_type": "markdown",
      "source": [
        "### 3. Explain the model which you have used and the feature importance using any model explainability tool?"
      ],
      "metadata": {
        "id": "HvGl1hHyA_VK"
      }
    },
    {
      "cell_type": "code",
      "source": [
        "\n",
        "#creating function for getting shape of JS visualization using shap in notebook environment\n",
        "def get_shap(model):\n",
        "  sns.set_style('darkgrid')\n",
        "  for_instance=2\n",
        "  shap.initjs()                                                                                                            #to get JS visualisation\n",
        "  explainer = shap.TreeExplainer(model)\n",
        "  shap_values = explainer(X_test,check_additivity=False)                                                                   #using explainer.shap_values to get shap values of each feature\n",
        "  return shap.plots.force(shap_values[for_instance],feature_names=X.columns)"
      ],
      "metadata": {
        "id": "CXRyptjfdCZf"
      },
      "execution_count": null,
      "outputs": []
    },
    {
      "cell_type": "code",
      "source": [
        "#creatung function to get shap summary\n",
        "def get_shap_summary(model):\n",
        "  model.fit(X_test,y_test)\n",
        "  explainer = shap.TreeExplainer(model)\n",
        "  shap_values=explainer.shap_values(X_test,check_additivity=False)                                                         #using explainer.shap_values to get shap values of each feature\n",
        "  return shap.summary_plot(shap_values, X_test,feature_names=X.columns)"
      ],
      "metadata": {
        "id": "Csjccz1WdHks"
      },
      "execution_count": null,
      "outputs": []
    },
    {
      "cell_type": "code",
      "source": [
        "\n",
        "#creatung function to get shap summary\n",
        "def get_shap_summary2(model):\n",
        "  model.fit(X_test,y_test)\n",
        "  explainer = shap.TreeExplainer(model)\n",
        "  shap_values=explainer.shap_values(X_test,check_additivity=False)                                                         #using explainer.shap_values to get shap values of each feature\n",
        "  return shap.summary_plot(shap_values, X_test, plot_type=\"bar\",feature_names=X.columns)"
      ],
      "metadata": {
        "id": "Iz6BZ008dHhz"
      },
      "execution_count": null,
      "outputs": []
    },
    {
      "cell_type": "code",
      "source": [
        "def get_shap_summary3(model):\n",
        "  model.fit(X_test,y_test)\n",
        "  explainer = shap.TreeExplainer(model)\n",
        "  shap_values=explainer.shap_values(X_test,check_additivity=False)                                                         #using explainer.shap_values to get shap values of each feature\n",
        "  return shap.summary_plot(shap_values, X_test, link=\"identity\",feature_names=X.columns)"
      ],
      "metadata": {
        "id": "Q3-b-fQkdHeK"
      },
      "execution_count": null,
      "outputs": []
    },
    {
      "cell_type": "code",
      "source": [
        "\n",
        "#calling functions to get shap summary\n",
        "get_shap_summary(gb_optimal_modelLGB)\n",
        "get_shap_summary2(gb_optimal_modelLGB)"
      ],
      "metadata": {
        "id": "5yaInDCFdsMb"
      },
      "execution_count": null,
      "outputs": []
    },
    {
      "cell_type": "markdown",
      "source": [
        "REST API"
      ],
      "metadata": {
        "id": "YxU2ggqwZqm7"
      }
    },
    {
      "cell_type": "markdown",
      "source": [
        "## ***8.*** ***Future Work (Optional)***"
      ],
      "metadata": {
        "id": "EyNgTHvd2WFk"
      }
    },
    {
      "cell_type": "markdown",
      "source": [
        "### 1. Save the best performing ml model in a pickle file or joblib file format for deployment process.\n"
      ],
      "metadata": {
        "id": "KH5McJBi2d8v"
      }
    },
    {
      "cell_type": "code",
      "source": [
        "# Save the File"
      ],
      "metadata": {
        "id": "bQIANRl32f4J"
      },
      "execution_count": null,
      "outputs": []
    },
    {
      "cell_type": "markdown",
      "source": [
        "### 2. Again Load the saved model file and try to predict unseen data for a sanity check.\n"
      ],
      "metadata": {
        "id": "iW_Lq9qf2h6X"
      }
    },
    {
      "cell_type": "code",
      "source": [
        "# Load the File and predict unseen data."
      ],
      "metadata": {
        "id": "oEXk9ydD2nVC"
      },
      "execution_count": null,
      "outputs": []
    },
    {
      "cell_type": "markdown",
      "source": [
        "### ***Congrats! Your model is successfully created and ready for deployment on a live server for a real user interaction !!!***"
      ],
      "metadata": {
        "id": "-Kee-DAl2viO"
      }
    },
    {
      "cell_type": "markdown",
      "source": [],
      "metadata": {
        "id": "hDVcfrY6OaxM"
      }
    },
    {
      "cell_type": "markdown",
      "source": [
        "# **Conclusion**"
      ],
      "metadata": {
        "id": "gCX9965dhzqZ"
      }
    },
    {
      "cell_type": "markdown",
      "source": [
        "Write the conclusion here."
      ],
      "metadata": {
        "id": "Fjb1IsQkh3yE"
      }
    },
    {
      "cell_type": "markdown",
      "source": [
        "### ***Hurrah! You have successfully completed your Machine Learning Capstone Project !!!***"
      ],
      "metadata": {
        "id": "gIfDvo9L0UH2"
      }
    }
  ]
}